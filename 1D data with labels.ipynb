{
 "cells": [
  {
   "cell_type": "code",
   "execution_count": 1,
   "id": "bd97320f",
   "metadata": {},
   "outputs": [],
   "source": [
    "import cv2\n",
    "import mediapipe as mp\n",
    "import pandas as pd  \n",
    "import os\n",
    "import numpy as np \n",
    "from tqdm import tqdm"
   ]
  },
  {
   "cell_type": "code",
   "execution_count": 2,
   "id": "eec553f6",
   "metadata": {},
   "outputs": [],
   "source": [
    "load_path='E:/VA/10words'"
   ]
  },
  {
   "cell_type": "code",
   "execution_count": null,
   "id": "2432bd4b",
   "metadata": {},
   "outputs": [],
   "source": []
  },
  {
   "cell_type": "code",
   "execution_count": null,
   "id": "13ab1e91",
   "metadata": {},
   "outputs": [],
   "source": [
    "def extract_keypoints(results):\n",
    "    #pose = np.array([[res.x, res.y, res.z, res.visibility] for res in results.pose_landmarks.landmark]).flatten() if results.pose_landmarks else np.zeros(33*4)\n",
    "    #face = np.array([[res.x, res.y, res.z] for res in results.face_landmarks.landmark]).flatten() if results.face_landmarks else np.zeros(468*3)\n",
    "    lh = np.array([[res.x, res.y, res.z] for res in results.left_hand_landmarks.landmark]).flatten() if results.left_hand_landmarks else np.zeros(21*3)\n",
    "    rh = np.array([[res.x, res.y, res.z] for res in results.right_hand_landmarks.landmark]).flatten() if results.right_hand_landmarks else np.zeros(21*3)\n",
    "#     return np.concatenate([pose, face, lh, rh])\n",
    "    return np.concatenate([lh, rh])"
   ]
  },
  {
   "cell_type": "code",
   "execution_count": null,
   "id": "63418bea",
   "metadata": {},
   "outputs": [],
   "source": []
  },
  {
   "cell_type": "code",
   "execution_count": 3,
   "id": "b265a775",
   "metadata": {},
   "outputs": [],
   "source": [
    "def image_processed(file_path):\n",
    "    \n",
    "    # reading the static image\n",
    "    hand_img = cv2.imread(file_path)\n",
    "\n",
    "    # Image processing\n",
    "    # 1. Convert BGR to RGB\n",
    "    img_rgb = cv2.cvtColor(hand_img, cv2.COLOR_BGR2RGB)\n",
    "\n",
    "    # 2. Flip the img in Y-axis\n",
    "    img_flip = cv2.flip(img_rgb, 1)\n",
    "\n",
    "    # accessing MediaPipe solutions\n",
    "    mp_hands = mp.solutions.hands\n",
    "\n",
    "    # Initialize Hands\n",
    "    hands = mp_hands.Hands(static_image_mode=True,\n",
    "    max_num_hands=1, min_detection_confidence=0.7)\n",
    "\n",
    "    # Results\n",
    "    output = hands.process(img_flip)\n",
    "\n",
    "    hands.close()\n",
    "\n",
    "    try:\n",
    "        data = output.multi_hand_landmarks[0]\n",
    "#         print(data)\n",
    "\n",
    "        data = str(data)\n",
    "\n",
    "        data = data.strip().split('\\n')\n",
    "\n",
    "        garbage = ['landmark {', '  visibility: 0.0', '  presence: 0.0', '}']\n",
    "\n",
    "        without_garbage = []\n",
    "\n",
    "        for i in data:\n",
    "            if i not in garbage:\n",
    "                without_garbage.append(i)\n",
    "\n",
    "        clean = []\n",
    "\n",
    "        for i in without_garbage:\n",
    "            i = i.strip()\n",
    "            clean.append(i[2:])\n",
    "\n",
    "        for i in range(0, len(clean)):\n",
    "            clean[i] = float(clean[i])\n",
    "\n",
    "        return(clean)\n",
    "\n",
    "    except:\n",
    "        return(np.zeros([1,63], dtype=int)[0])\n"
   ]
  },
  {
   "cell_type": "code",
   "execution_count": 4,
   "id": "625756bb",
   "metadata": {},
   "outputs": [],
   "source": [
    "def make_csv(mypath):\n",
    "    file_name = open(load_path+'/dataset1.csv', 'a')\n",
    "    for each_folder in os.listdir(mypath):\n",
    "        print(each_folder)\n",
    "        if '._' in each_folder:\n",
    "            pass\n",
    "\n",
    "        else:\n",
    "            for each_number in tqdm(os.listdir(mypath + '/' + each_folder)):\n",
    "                \n",
    "                if '._' in each_number:\n",
    "                    pass\n",
    "                \n",
    "                else:\n",
    "                    label = each_folder\n",
    "\n",
    "                    file_loc = mypath + '/' + each_folder + '/' + each_number\n",
    "\n",
    "                    data = image_processed(file_loc)\n",
    "                    try:\n",
    "                        for id,i in enumerate(data):\n",
    "#                             if id == 0:\n",
    "#                                 #print(i)\n",
    "                            \n",
    "                            file_name.write(str(i))\n",
    "                            file_name.write(',')\n",
    "\n",
    "                        file_name.write(label)\n",
    "                        file_name.write('\\n')\n",
    "                    \n",
    "                    except:\n",
    "                        file_name.write('0')\n",
    "                        file_name.write(',')\n",
    "\n",
    "                        file_name.write('None')\n",
    "                        file_name.write('\\n')\n",
    "       \n",
    "    file_name.close()\n",
    "    print('csv_data created !!!')\n"
   ]
  },
  {
   "cell_type": "code",
   "execution_count": 5,
   "id": "8c044862",
   "metadata": {},
   "outputs": [],
   "source": [
    "file_path = load_path+'/dataset1.csv'\n",
    "\n",
    "try: \n",
    "    if os.listdir(file_path):\n",
    "        pass\n",
    "    else:\n",
    "        os.mkdir(file_path)\n",
    "except:\n",
    "    pass\n",
    "    "
   ]
  },
  {
   "cell_type": "code",
   "execution_count": 6,
   "id": "28169e12",
   "metadata": {},
   "outputs": [
    {
     "name": "stdout",
     "output_type": "stream",
     "text": [
      "0\n"
     ]
    },
    {
     "name": "stderr",
     "output_type": "stream",
     "text": [
      "100%|████████████████████████████████████████████████████████████████████████████████| 500/500 [00:24<00:00, 20.31it/s]\n"
     ]
    },
    {
     "name": "stdout",
     "output_type": "stream",
     "text": [
      "1\n"
     ]
    },
    {
     "name": "stderr",
     "output_type": "stream",
     "text": [
      "100%|████████████████████████████████████████████████████████████████████████████████| 492/492 [00:24<00:00, 20.46it/s]\n"
     ]
    },
    {
     "name": "stdout",
     "output_type": "stream",
     "text": [
      "2\n"
     ]
    },
    {
     "name": "stderr",
     "output_type": "stream",
     "text": [
      "100%|████████████████████████████████████████████████████████████████████████████████| 511/511 [00:24<00:00, 21.20it/s]\n"
     ]
    },
    {
     "name": "stdout",
     "output_type": "stream",
     "text": [
      "3\n"
     ]
    },
    {
     "name": "stderr",
     "output_type": "stream",
     "text": [
      "100%|████████████████████████████████████████████████████████████████████████████████| 444/444 [00:21<00:00, 20.96it/s]\n"
     ]
    },
    {
     "name": "stdout",
     "output_type": "stream",
     "text": [
      "4\n"
     ]
    },
    {
     "name": "stderr",
     "output_type": "stream",
     "text": [
      "100%|████████████████████████████████████████████████████████████████████████████████| 474/474 [00:24<00:00, 19.41it/s]\n"
     ]
    },
    {
     "name": "stdout",
     "output_type": "stream",
     "text": [
      "5\n"
     ]
    },
    {
     "name": "stderr",
     "output_type": "stream",
     "text": [
      "100%|████████████████████████████████████████████████████████████████████████████████| 470/470 [00:22<00:00, 20.47it/s]\n"
     ]
    },
    {
     "name": "stdout",
     "output_type": "stream",
     "text": [
      "6\n"
     ]
    },
    {
     "name": "stderr",
     "output_type": "stream",
     "text": [
      "100%|████████████████████████████████████████████████████████████████████████████████| 450/450 [00:21<00:00, 20.99it/s]\n"
     ]
    },
    {
     "name": "stdout",
     "output_type": "stream",
     "text": [
      "7\n"
     ]
    },
    {
     "name": "stderr",
     "output_type": "stream",
     "text": [
      "100%|████████████████████████████████████████████████████████████████████████████████| 468/468 [00:23<00:00, 20.32it/s]\n"
     ]
    },
    {
     "name": "stdout",
     "output_type": "stream",
     "text": [
      "8\n"
     ]
    },
    {
     "name": "stderr",
     "output_type": "stream",
     "text": [
      "100%|████████████████████████████████████████████████████████████████████████████████| 492/492 [00:25<00:00, 19.62it/s]\n"
     ]
    },
    {
     "name": "stdout",
     "output_type": "stream",
     "text": [
      "9\n"
     ]
    },
    {
     "name": "stderr",
     "output_type": "stream",
     "text": [
      "100%|████████████████████████████████████████████████████████████████████████████████| 500/500 [00:25<00:00, 19.50it/s]\n"
     ]
    },
    {
     "name": "stdout",
     "output_type": "stream",
     "text": [
      "dataset.csv\n"
     ]
    },
    {
     "ename": "NotADirectoryError",
     "evalue": "[WinError 267] The directory name is invalid: 'E:/VA/10words/dataset.csv'",
     "output_type": "error",
     "traceback": [
      "\u001b[1;31m---------------------------------------------------------------------------\u001b[0m",
      "\u001b[1;31mNotADirectoryError\u001b[0m                        Traceback (most recent call last)",
      "\u001b[1;32m~\\AppData\\Local\\Temp/ipykernel_17896/1779250362.py\u001b[0m in \u001b[0;36m<module>\u001b[1;34m\u001b[0m\n\u001b[0;32m      1\u001b[0m \u001b[1;32mif\u001b[0m \u001b[0m__name__\u001b[0m \u001b[1;33m==\u001b[0m \u001b[1;34m\"__main__\"\u001b[0m\u001b[1;33m:\u001b[0m\u001b[1;33m\u001b[0m\u001b[1;33m\u001b[0m\u001b[0m\n\u001b[1;32m----> 2\u001b[1;33m     \u001b[0mmake_csv\u001b[0m\u001b[1;33m(\u001b[0m\u001b[0mload_path\u001b[0m\u001b[1;33m)\u001b[0m\u001b[1;33m\u001b[0m\u001b[1;33m\u001b[0m\u001b[0m\n\u001b[0m",
      "\u001b[1;32m~\\AppData\\Local\\Temp/ipykernel_17896/2552760788.py\u001b[0m in \u001b[0;36mmake_csv\u001b[1;34m(mypath)\u001b[0m\n\u001b[0;32m      7\u001b[0m \u001b[1;33m\u001b[0m\u001b[0m\n\u001b[0;32m      8\u001b[0m         \u001b[1;32melse\u001b[0m\u001b[1;33m:\u001b[0m\u001b[1;33m\u001b[0m\u001b[1;33m\u001b[0m\u001b[0m\n\u001b[1;32m----> 9\u001b[1;33m             \u001b[1;32mfor\u001b[0m \u001b[0meach_number\u001b[0m \u001b[1;32min\u001b[0m \u001b[0mtqdm\u001b[0m\u001b[1;33m(\u001b[0m\u001b[0mos\u001b[0m\u001b[1;33m.\u001b[0m\u001b[0mlistdir\u001b[0m\u001b[1;33m(\u001b[0m\u001b[0mmypath\u001b[0m \u001b[1;33m+\u001b[0m \u001b[1;34m'/'\u001b[0m \u001b[1;33m+\u001b[0m \u001b[0meach_folder\u001b[0m\u001b[1;33m)\u001b[0m\u001b[1;33m)\u001b[0m\u001b[1;33m:\u001b[0m\u001b[1;33m\u001b[0m\u001b[1;33m\u001b[0m\u001b[0m\n\u001b[0m\u001b[0;32m     10\u001b[0m \u001b[1;33m\u001b[0m\u001b[0m\n\u001b[0;32m     11\u001b[0m                 \u001b[1;32mif\u001b[0m \u001b[1;34m'._'\u001b[0m \u001b[1;32min\u001b[0m \u001b[0meach_number\u001b[0m\u001b[1;33m:\u001b[0m\u001b[1;33m\u001b[0m\u001b[1;33m\u001b[0m\u001b[0m\n",
      "\u001b[1;31mNotADirectoryError\u001b[0m: [WinError 267] The directory name is invalid: 'E:/VA/10words/dataset.csv'"
     ]
    }
   ],
   "source": [
    "\n",
    "        \n",
    "if __name__ == \"__main__\":\n",
    "    make_csv(load_path)"
   ]
  },
  {
   "cell_type": "code",
   "execution_count": null,
   "id": "7eb5d806",
   "metadata": {},
   "outputs": [],
   "source": []
  }
 ],
 "metadata": {
  "kernelspec": {
   "display_name": "Python 3 (ipykernel)",
   "language": "python",
   "name": "python3"
  },
  "language_info": {
   "codemirror_mode": {
    "name": "ipython",
    "version": 3
   },
   "file_extension": ".py",
   "mimetype": "text/x-python",
   "name": "python",
   "nbconvert_exporter": "python",
   "pygments_lexer": "ipython3",
   "version": "3.9.7"
  }
 },
 "nbformat": 4,
 "nbformat_minor": 5
}
