{
 "cells": [
  {
   "cell_type": "code",
   "execution_count": 1,
   "id": "153c77bf",
   "metadata": {},
   "outputs": [],
   "source": [
    "import os\n",
    "import keras\n",
    "\n",
    "import numpy as np\n",
    "import tensorflow as tf\n",
    "from tqdm import tqdm\n"
   ]
  },
  {
   "cell_type": "code",
   "execution_count": 2,
   "id": "d4f34606",
   "metadata": {},
   "outputs": [
    {
     "name": "stderr",
     "output_type": "stream",
     "text": [
      "100%|██████████████████████████████████████████████████████████████████████████████████████████| 31/31 [00:00<?, ?it/s]\n"
     ]
    }
   ],
   "source": [
    "#FOR ANIMALS\n",
    "# TRAIN_DIR = \"D:/VA/animals_new_dataset\"\n",
    "# FOR NUMBERS\n",
    "TRAIN_DIR = \"E:/VA/30words\"\n",
    "CATEGORIES = []\n",
    "for img in tqdm(os.listdir(TRAIN_DIR)):\n",
    "    CATEGORIES.append(img)\n",
    "#print(CATEGORIES)\n",
    "IMG_SIZE=128"
   ]
  },
  {
   "cell_type": "code",
   "execution_count": 3,
   "id": "10a8b31c",
   "metadata": {},
   "outputs": [
    {
     "name": "stdout",
     "output_type": "stream",
     "text": [
      "['accept', 'age', 'assistant', 'black', 'boot', 'card', 'cash', 'chicken', 'dance', 'earpods', 'handkerchief', 'home', 'human', 'keep', 'laptop', 'meet', 'mobile', 'monkey', 'namastey', 'person', 'proof', 'signature', 'sleep', 'spider', 'stand', 'star', 'tv', 'umbrella', 'white', 'wolf', 'yellow']\n"
     ]
    }
   ],
   "source": [
    "print(CATEGORIES)"
   ]
  },
  {
   "cell_type": "code",
   "execution_count": 4,
   "id": "7015ae52",
   "metadata": {},
   "outputs": [
    {
     "name": "stdout",
     "output_type": "stream",
     "text": [
      "31\n"
     ]
    }
   ],
   "source": [
    "cat_len=len(CATEGORIES)\n",
    "print(cat_len)"
   ]
  },
  {
   "cell_type": "code",
   "execution_count": 5,
   "id": "320cdb84",
   "metadata": {},
   "outputs": [],
   "source": [
    "load_path = 'E:/VA/pose+H/128/31words/'\n",
    "for category in CATEGORIES:\n",
    "    try: \n",
    "        os.makedirs(os.path.join(load_path, category))\n",
    "    except:\n",
    "        pass"
   ]
  },
  {
   "cell_type": "code",
   "execution_count": 6,
   "id": "e2911be8",
   "metadata": {},
   "outputs": [
    {
     "name": "stdout",
     "output_type": "stream",
     "text": [
      "['accept', 'assistant', 'boot', 'cash', 'dance', 'home', 'human', 'keep', 'laptop', 'meet', 'monkey', 'namastey', 'proof', 'signature', 'sleep', 'spider', 'stand', 'tv', 'umbrella']\n"
     ]
    }
   ],
   "source": [
    "\n",
    "# exclude situation\n",
    "# one_hand=['C','I','L','O','U','V','0','1','2','3','4','5','6','7','8','9','camel','deer','goat',\n",
    "#           'snake','colour','dolphin','gun','hair','idea','pen','saree','sun','age','black','card',\n",
    "#           'chicken','earpods','handkerchief','mobile','person','star','white','wolf','yellow']\n",
    "# one_hand=['colour','dolphin','gun','hair','idea','pen','saree','sun']\n",
    "# one_hand=['C','I','L','O','U','V']\n",
    "one_hand=['age','black','card',\n",
    "          'chicken','earpods','handkerchief','mobile','person','star','white','wolf','yellow']\n",
    "# one_hand=['0','1','2','3','4','5','6','7','8','9']\n",
    "from collections import Counter\n",
    "two_hand = list((Counter(CATEGORIES)-Counter(one_hand)).elements())\n",
    "#=['bull','cat','cow','crocodile','dog','elephant','horse','lion','tiger']\n",
    "\n",
    "print(two_hand)"
   ]
  },
  {
   "cell_type": "code",
   "execution_count": 7,
   "id": "aca58f2c",
   "metadata": {},
   "outputs": [],
   "source": [
    "import cv2\n",
    "import mediapipe as mp\n",
    "mp_drawing = mp.solutions.drawing_utils\n",
    "mp_drawing_styles = mp.solutions.drawing_styles\n",
    "mp_holistic = mp.solutions.holistic\n",
    "\n",
    "def landmarks(img,results):\n",
    "    \n",
    "    #face\n",
    "#     mp_drawing.draw_landmarks(\n",
    "#         img,\n",
    "#         results.face_landmarks,\n",
    "#         mp_holistic.FACEMESH_CONTOURS,\n",
    "#             landmark_drawing_spec=None,\n",
    "#         connection_drawing_spec=mp_drawing_styles\n",
    "#         .get_default_face_mesh_contours_style())\n",
    "#     #pose\n",
    "    mp_drawing.draw_landmarks(\n",
    "        img,\n",
    "        results.pose_landmarks,\n",
    "        mp_holistic.POSE_CONNECTIONS,\n",
    "        landmark_drawing_spec=mp_drawing_styles\n",
    "        .get_default_pose_landmarks_style())\n",
    "    #left hand\n",
    "    mp_drawing.draw_landmarks(\n",
    "        img,\n",
    "        results.left_hand_landmarks,\n",
    "        mp_holistic.HAND_CONNECTIONS,\n",
    "    #         landmark_drawing_spec=None,\n",
    "            mp_drawing_styles.get_default_hand_landmarks_style(),\n",
    "            mp_drawing_styles.get_default_hand_connections_style())\n",
    "    # right hand\n",
    "    mp_drawing.draw_landmarks(\n",
    "        img,\n",
    "        results.right_hand_landmarks,\n",
    "        mp_holistic.HAND_CONNECTIONS,\n",
    "    #         landmark_drawing_spec=None,\n",
    "            mp_drawing_styles.get_default_hand_landmarks_style(),\n",
    "            mp_drawing_styles.get_default_hand_connections_style())"
   ]
  },
  {
   "cell_type": "code",
   "execution_count": 9,
   "id": "47e8aba4",
   "metadata": {
    "scrolled": true
   },
   "outputs": [
    {
     "name": "stderr",
     "output_type": "stream",
     "text": [
      "100%|████████████████████████████████████████████████████████████████████████████████| 500/500 [00:17<00:00, 28.25it/s]\n",
      "100%|████████████████████████████████████████████████████████████████████████████████| 500/500 [00:16<00:00, 29.49it/s]\n",
      "100%|████████████████████████████████████████████████████████████████████████████████| 500/500 [00:16<00:00, 29.79it/s]\n",
      "100%|████████████████████████████████████████████████████████████████████████████████| 500/500 [00:18<00:00, 27.48it/s]\n",
      "100%|████████████████████████████████████████████████████████████████████████████████| 500/500 [00:16<00:00, 29.79it/s]\n",
      "100%|████████████████████████████████████████████████████████████████████████████████| 500/500 [00:16<00:00, 30.87it/s]\n",
      "100%|████████████████████████████████████████████████████████████████████████████████| 500/500 [00:16<00:00, 29.78it/s]\n",
      "100%|████████████████████████████████████████████████████████████████████████████████| 500/500 [00:16<00:00, 29.92it/s]\n",
      "100%|████████████████████████████████████████████████████████████████████████████████| 500/500 [00:16<00:00, 29.82it/s]\n",
      "100%|████████████████████████████████████████████████████████████████████████████████| 500/500 [00:17<00:00, 29.40it/s]\n",
      "100%|████████████████████████████████████████████████████████████████████████████████| 500/500 [00:16<00:00, 29.96it/s]\n",
      "100%|████████████████████████████████████████████████████████████████████████████████| 500/500 [00:16<00:00, 30.35it/s]\n",
      "100%|████████████████████████████████████████████████████████████████████████████████| 500/500 [00:16<00:00, 29.92it/s]\n",
      "100%|████████████████████████████████████████████████████████████████████████████████| 500/500 [00:15<00:00, 31.36it/s]\n",
      "100%|████████████████████████████████████████████████████████████████████████████████| 500/500 [00:17<00:00, 28.87it/s]\n",
      "100%|████████████████████████████████████████████████████████████████████████████████| 500/500 [00:16<00:00, 29.69it/s]\n",
      "100%|████████████████████████████████████████████████████████████████████████████████| 500/500 [00:16<00:00, 29.94it/s]\n",
      "100%|████████████████████████████████████████████████████████████████████████████████| 500/500 [00:16<00:00, 29.72it/s]\n",
      "100%|████████████████████████████████████████████████████████████████████████████████| 500/500 [00:16<00:00, 29.90it/s]\n",
      "100%|████████████████████████████████████████████████████████████████████████████████| 500/500 [00:16<00:00, 30.13it/s]\n",
      "100%|████████████████████████████████████████████████████████████████████████████████| 500/500 [00:16<00:00, 29.84it/s]\n",
      "100%|████████████████████████████████████████████████████████████████████████████████| 500/500 [00:16<00:00, 29.71it/s]\n",
      "100%|████████████████████████████████████████████████████████████████████████████████| 500/500 [00:16<00:00, 31.02it/s]\n",
      "100%|████████████████████████████████████████████████████████████████████████████████| 500/500 [00:16<00:00, 29.83it/s]\n",
      "100%|████████████████████████████████████████████████████████████████████████████████| 500/500 [00:16<00:00, 30.34it/s]\n",
      "100%|████████████████████████████████████████████████████████████████████████████████| 500/500 [00:16<00:00, 30.00it/s]\n",
      "100%|████████████████████████████████████████████████████████████████████████████████| 500/500 [00:16<00:00, 29.74it/s]\n",
      "100%|████████████████████████████████████████████████████████████████████████████████| 500/500 [00:16<00:00, 29.50it/s]\n",
      "100%|████████████████████████████████████████████████████████████████████████████████| 500/500 [00:17<00:00, 29.14it/s]\n",
      "100%|████████████████████████████████████████████████████████████████████████████████| 500/500 [00:16<00:00, 29.71it/s]\n",
      "100%|████████████████████████████████████████████████████████████████████████████████| 500/500 [00:16<00:00, 29.49it/s]\n"
     ]
    }
   ],
   "source": [
    "# for getting just hands and face\n",
    "IMG_SIZE=128\n",
    "training_data = []\n",
    "training_data1 = []\n",
    "with mp_holistic.Holistic(\n",
    "    min_detection_confidence=0.5,\n",
    "    min_tracking_confidence=0.5) as holistic:\n",
    "    for category in CATEGORIES:\n",
    "        path=TRAIN_DIR+\"/\"+category\n",
    "        path2=load_path+\"/\"+category\n",
    "#         print(path)\n",
    "        class_num = CATEGORIES.index(category)\n",
    "        for c_img in tqdm(os.listdir(path)):\n",
    "            img_array = cv2.imread((path+\"/\"+c_img))\n",
    "            \n",
    "            image_height, image_width, _ = img_array.shape\n",
    "            # Convert the BGR image to RGB before processing.\n",
    "            results = holistic.process(cv2.cvtColor(img_array, cv2.COLOR_BGR2RGB))\n",
    "                    \n",
    "            annotated_image = img_array.copy()\n",
    "            \n",
    "            img = np.zeros([image_height, image_width,3],dtype=np.uint8)\n",
    "            img.fill(255)\n",
    "            \n",
    "            if not (results.left_hand_landmarks or results.right_hand_landmarks):  # exclude saving no hands\n",
    "                continue\n",
    "                \n",
    "            # conditions on one_hand\n",
    "            if category in one_hand:\n",
    "                if  (results.left_hand_landmarks or results.right_hand_landmarks):   #include saving either hands\n",
    "                    landmarks(img,results) # from function\n",
    "                    img = cv2.resize(img,(IMG_SIZE,IMG_SIZE))\n",
    "                    gray = cv2.cvtColor(img, cv2.COLOR_BGR2GRAY)\n",
    "                    cv2.imwrite((path2+\"/\"+c_img),img)\n",
    "                    training_data.append([img, class_num])\n",
    "                    training_data1.append([gray, class_num])\n",
    "                   \n",
    "                    \n",
    "            # condition on two_hands        \n",
    "            if category in two_hand:\n",
    "                if  (results.left_hand_landmarks and results.right_hand_landmarks):   #include both hand\n",
    "                    landmarks(img,results) # from function\n",
    "                    img = cv2.resize(img,(IMG_SIZE,IMG_SIZE))\n",
    "                    gray = cv2.cvtColor(img, cv2.COLOR_BGR2GRAY)\n",
    "                    cv2.imwrite((path2+\"/\"+c_img),img)\n",
    "                    training_data.append([img, class_num])\n",
    "                    training_data1.append([gray, class_num])\n",
    "            \n",
    "import random\n",
    "random.shuffle(training_data)\n",
    "random.shuffle(training_data1)\n",
    "# np.save('F:/VA/onehandtwohand/26words_DSLR_H/training1a.npy', training_data)            "
   ]
  },
  {
   "cell_type": "code",
   "execution_count": 10,
   "id": "b6119508",
   "metadata": {},
   "outputs": [
    {
     "name": "stdout",
     "output_type": "stream",
     "text": [
      "done\n"
     ]
    }
   ],
   "source": [
    "X =[]\n",
    "y =[]\n",
    "for features, label in training_data:\n",
    "    X.append(features)\n",
    "    y.append(label)\n",
    "X = np.array(X).reshape(-1, IMG_SIZE, IMG_SIZE, 3)\n",
    "\n",
    "# X = X.astype('float32')\n",
    "# X /= 255\n",
    "from keras.utils import np_utils\n",
    "Y = np_utils.to_categorical(y, cat_len)\n",
    "np.save(load_path+'X.npy', X)\n",
    "np.save(load_path+'Y.npy', Y)\n",
    "print(\"done\")"
   ]
  },
  {
   "cell_type": "code",
   "execution_count": 12,
   "id": "e57195c5",
   "metadata": {},
   "outputs": [
    {
     "name": "stdout",
     "output_type": "stream",
     "text": [
      "done\n"
     ]
    }
   ],
   "source": [
    "X1 =[]\n",
    "y1 =[]\n",
    "for features1, label1 in training_data1:\n",
    "    X1.append(features1)\n",
    "    y1.append(label1)\n",
    "X1 = np.array(X1).reshape(-1, IMG_SIZE, IMG_SIZE, 3)\n",
    "\n",
    "# X = X.astype('float32')\n",
    "# X /= 255\n",
    "from keras.utils import np_utils\n",
    "Y1 = np_utils.to_categorical(y1, cat_len)\n",
    "np.save(load_path+'X_gray.npy', X1)\n",
    "np.save(load_path+'Y_gray.npy', Y1)\n",
    "print(\"done\")"
   ]
  },
  {
   "cell_type": "code",
   "execution_count": null,
   "id": "a220842c",
   "metadata": {},
   "outputs": [],
   "source": [
    "# for getting hands and face contour\n",
    "\n",
    "import cv2\n",
    "import mediapipe as mp\n",
    "mp_drawing = mp.solutions.drawing_utils\n",
    "mp_drawing_styles = mp.solutions.drawing_styles\n",
    "mp_holistic = mp.solutions.holistic\n",
    "\n",
    "\n",
    "#For webcam input:\n",
    "\n",
    "cap = cv2.VideoCapture(0)\n",
    "with mp_holistic.Holistic(\n",
    "    min_detection_confidence=0.5,\n",
    "    min_tracking_confidence=0.5) as holistic:\n",
    "  while cap.isOpened():\n",
    "    success, image = cap.read()\n",
    "    if not success:\n",
    "      print(\"Ignoring empty camera frame.\")\n",
    "      # If loading a video, use 'break' instead of 'continue'.\n",
    "      continue\n",
    "\n",
    "    # To improve performance, optionally mark the image as not writeable to\n",
    "    # pass by reference.\n",
    "    image.flags.writeable = False\n",
    "    image = cv2.cvtColor(image, cv2.COLOR_BGR2RGB)\n",
    "    results = holistic.process(image)\n",
    "\n",
    "    # Draw landmark annotation on the image.\n",
    "    image.flags.writeable = True\n",
    "    image = cv2.cvtColor(image, cv2.COLOR_RGB2BGR)\n",
    "    \n",
    "    #face\n",
    "    mp_drawing.draw_landmarks(\n",
    "        image,\n",
    "        results.face_landmarks,\n",
    "        mp_holistic.FACEMESH_CONTOURS,\n",
    "        landmark_drawing_spec=None,\n",
    "        connection_drawing_spec=mp_drawing_styles\n",
    "        .get_default_face_mesh_contours_style())\n",
    "    #pose\n",
    "#     mp_drawing.draw_landmarks(\n",
    "#         image,\n",
    "#         results.pose_landmarks,\n",
    "#         mp_holistic.POSE_CONNECTIONS,\n",
    "#         landmark_drawing_spec=mp_drawing_styles\n",
    "#         .get_default_pose_landmarks_style())\n",
    "    #left hand\n",
    "    mp_drawing.draw_landmarks(\n",
    "        image,\n",
    "        results.left_hand_landmarks,\n",
    "        mp_holistic.HAND_CONNECTIONS,\n",
    "#         landmark_drawing_spec=None,\n",
    "            mp_drawing_styles.get_default_hand_landmarks_style(),\n",
    "            mp_drawing_styles.get_default_hand_connections_style())\n",
    "    # right hand\n",
    "    mp_drawing.draw_landmarks(\n",
    "        image,\n",
    "        results.right_hand_landmarks,\n",
    "        mp_holistic.HAND_CONNECTIONS,\n",
    "#         landmark_drawing_spec=None,\n",
    "            mp_drawing_styles.get_default_hand_landmarks_style(),\n",
    "            mp_drawing_styles.get_default_hand_connections_style())\n",
    "\n",
    "\n",
    "    # Flip the image horizontally for a selfie-view display.\n",
    "    cv2.imshow('MediaPipe Holistic', cv2.flip(image, 1))\n",
    "    if cv2.waitKey(10) & 0xFF == ord('q'):\n",
    "            break\n",
    "# close the camera\n",
    "cap.release()\n",
    "\n",
    "# close all the opened windows\n",
    "cv2.destroyAllWindows()"
   ]
  },
  {
   "cell_type": "code",
   "execution_count": null,
   "id": "1994e90d",
   "metadata": {},
   "outputs": [],
   "source": []
  },
  {
   "cell_type": "code",
   "execution_count": null,
   "id": "a5b89d92",
   "metadata": {},
   "outputs": [],
   "source": []
  },
  {
   "cell_type": "code",
   "execution_count": null,
   "id": "2ccd8293",
   "metadata": {},
   "outputs": [],
   "source": []
  }
 ],
 "metadata": {
  "kernelspec": {
   "display_name": "Python 3 (ipykernel)",
   "language": "python",
   "name": "python3"
  },
  "language_info": {
   "codemirror_mode": {
    "name": "ipython",
    "version": 3
   },
   "file_extension": ".py",
   "mimetype": "text/x-python",
   "name": "python",
   "nbconvert_exporter": "python",
   "pygments_lexer": "ipython3",
   "version": "3.9.7"
  }
 },
 "nbformat": 4,
 "nbformat_minor": 5
}
