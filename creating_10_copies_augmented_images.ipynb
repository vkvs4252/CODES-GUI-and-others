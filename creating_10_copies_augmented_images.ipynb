{
 "cells": [
  {
   "cell_type": "code",
   "execution_count": 2,
   "id": "cdc89abe",
   "metadata": {},
   "outputs": [
    {
     "name": "stdout",
     "output_type": "stream",
     "text": [
      "Collecting imgaug\n",
      "  Downloading imgaug-0.4.0-py2.py3-none-any.whl (948 kB)\n",
      "Requirement already satisfied: numpy>=1.15 in c:\\programdata\\anaconda3\\lib\\site-packages (from imgaug) (1.20.3)\n",
      "Requirement already satisfied: Pillow in c:\\programdata\\anaconda3\\lib\\site-packages (from imgaug) (8.4.0)\n",
      "Requirement already satisfied: imageio in c:\\programdata\\anaconda3\\lib\\site-packages (from imgaug) (2.9.0)\n",
      "Collecting Shapely\n",
      "  Downloading shapely-2.0.1-cp39-cp39-win_amd64.whl (1.4 MB)\n",
      "Collecting opencv-python\n",
      "  Downloading opencv_python-4.7.0.72-cp37-abi3-win_amd64.whl (38.2 MB)\n",
      "Requirement already satisfied: scikit-image>=0.14.2 in c:\\programdata\\anaconda3\\lib\\site-packages (from imgaug) (0.18.3)\n",
      "Requirement already satisfied: six in c:\\programdata\\anaconda3\\lib\\site-packages (from imgaug) (1.16.0)\n",
      "Requirement already satisfied: scipy in c:\\programdata\\anaconda3\\lib\\site-packages (from imgaug) (1.7.1)\n",
      "Requirement already satisfied: matplotlib in c:\\programdata\\anaconda3\\lib\\site-packages (from imgaug) (3.4.3)\n",
      "Requirement already satisfied: networkx>=2.0 in c:\\programdata\\anaconda3\\lib\\site-packages (from scikit-image>=0.14.2->imgaug) (2.6.3)\n",
      "Requirement already satisfied: tifffile>=2019.7.26 in c:\\programdata\\anaconda3\\lib\\site-packages (from scikit-image>=0.14.2->imgaug) (2021.7.2)\n",
      "Requirement already satisfied: PyWavelets>=1.1.1 in c:\\programdata\\anaconda3\\lib\\site-packages (from scikit-image>=0.14.2->imgaug) (1.1.1)\n",
      "Requirement already satisfied: pyparsing>=2.2.1 in c:\\programdata\\anaconda3\\lib\\site-packages (from matplotlib->imgaug) (3.0.4)\n",
      "Requirement already satisfied: python-dateutil>=2.7 in c:\\programdata\\anaconda3\\lib\\site-packages (from matplotlib->imgaug) (2.8.2)\n",
      "Requirement already satisfied: cycler>=0.10 in c:\\programdata\\anaconda3\\lib\\site-packages (from matplotlib->imgaug) (0.10.0)\n",
      "Requirement already satisfied: kiwisolver>=1.0.1 in c:\\programdata\\anaconda3\\lib\\site-packages (from matplotlib->imgaug) (1.3.1)\n",
      "Installing collected packages: Shapely, opencv-python, imgaug\n",
      "Successfully installed Shapely-2.0.1 imgaug-0.4.0 opencv-python-4.7.0.72\n"
     ]
    }
   ],
   "source": [
    "!pip install imgaug"
   ]
  },
  {
   "cell_type": "code",
   "execution_count": 3,
   "id": "dd16acc0",
   "metadata": {},
   "outputs": [],
   "source": [
    "import os\n",
    "import cv2\n",
    "import imgaug.augmenters as iaa\n",
    "\n",
    "# Define the image augmentation pipeline\n",
    "seq = iaa.Sequential([\n",
    "    iaa.Flipud(p=0.5), # vertically flip 50% of the images\n",
    "    iaa.Fliplr(p=0.5), # horizontally flip 50% of the images\n",
    "    iaa.GaussianBlur(sigma=(0, 3.0)), # apply Gaussian blur with random sigma (std dev)\n",
    "    iaa.Affine(rotate=(-45, 45)), # rotate images by random angle between -45 and 45 degrees\n",
    "    iaa.AdditiveGaussianNoise(scale=(0, 0.1*255)), # add random Gaussian noise\n",
    "    iaa.Multiply((0.5, 1.5)), # adjust brightness by random factor between 0.5 and 1.5\n",
    "    iaa.Crop(percent=(0, 0.2)) # crop images by up to 20% of their height/width\n",
    "])\n",
    "\n",
    "# Define the input and output directories\n",
    "input_dir = \"D:/VA1/10words_dataset/0/\"\n",
    "output_dir = \"D:/test_augment/\"\n",
    "\n",
    "# Loop over each image in the input directory and generate 10 augmented copies\n",
    "for filename in os.listdir(input_dir):\n",
    "    if filename.endswith(\".jpg\") or filename.endswith(\".png\"): # only process image files\n",
    "        filepath = os.path.join(input_dir, filename)\n",
    "        img = cv2.imread(filepath) # read image using OpenCV\n",
    "        # Apply the augmentation pipeline to the image\n",
    "        aug_imgs = [seq.augment_image(img) for _ in range(10)]\n",
    "        # Save the augmented images to the output directory with a new filename\n",
    "        for i, aug_img in enumerate(aug_imgs):\n",
    "            output_filename = f\"{os.path.splitext(filename)[0]}_{i}.jpg\" # add an index to the filename\n",
    "            output_filepath = os.path.join(output_dir, output_filename)\n",
    "            cv2.imwrite(output_filepath, aug_img) # save the image using OpenCV\n"
   ]
  },
  {
   "cell_type": "code",
   "execution_count": null,
   "id": "18dae120",
   "metadata": {},
   "outputs": [],
   "source": []
  }
 ],
 "metadata": {
  "kernelspec": {
   "display_name": "Python 3 (ipykernel)",
   "language": "python",
   "name": "python3"
  },
  "language_info": {
   "codemirror_mode": {
    "name": "ipython",
    "version": 3
   },
   "file_extension": ".py",
   "mimetype": "text/x-python",
   "name": "python",
   "nbconvert_exporter": "python",
   "pygments_lexer": "ipython3",
   "version": "3.9.7"
  }
 },
 "nbformat": 4,
 "nbformat_minor": 5
}
