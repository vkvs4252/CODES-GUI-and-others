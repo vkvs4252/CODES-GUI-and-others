{
 "cells": [
  {
   "cell_type": "code",
   "execution_count": 1,
   "id": "1ce746b4",
   "metadata": {},
   "outputs": [
    {
     "name": "stderr",
     "output_type": "stream",
     "text": [
      "ERROR: Could not find a version that satisfies the requirement tensorflow==2.4.1 (from versions: 2.5.0, 2.5.1, 2.5.2, 2.5.3, 2.6.0rc0, 2.6.0rc1, 2.6.0rc2, 2.6.0, 2.6.1, 2.6.2, 2.6.3, 2.6.4, 2.6.5, 2.7.0rc0, 2.7.0rc1, 2.7.0, 2.7.1, 2.7.2, 2.7.3, 2.7.4, 2.8.0rc0, 2.8.0rc1, 2.8.0, 2.8.1, 2.8.2, 2.8.3, 2.9.0rc0, 2.9.0rc1, 2.9.0rc2, 2.9.0, 2.9.1, 2.9.2, 2.10.0rc0, 2.10.0rc1, 2.10.0rc2, 2.10.0rc3, 2.10.0)\n",
      "ERROR: No matching distribution found for tensorflow==2.4.1\n"
     ]
    }
   ],
   "source": [
    "# !pip install tensorflow==2.4.1 tensorflow-gpu==2.4.1 opencv-python mediapipe sklearn matplotlib\n"
   ]
  },
  {
   "cell_type": "code",
   "execution_count": 1,
   "id": "9282d66d",
   "metadata": {},
   "outputs": [],
   "source": [
    "import cv2\n",
    "import numpy as np\n",
    "import os\n",
    "from matplotlib import pyplot as plt\n",
    "import time\n",
    "import mediapipe as mp"
   ]
  },
  {
   "cell_type": "code",
   "execution_count": 2,
   "id": "f7c4a204",
   "metadata": {},
   "outputs": [],
   "source": [
    "mp_holistic = mp.solutions.holistic # Holistic model\n",
    "mp_drawing = mp.solutions.drawing_utils # Drawing utilities"
   ]
  },
  {
   "cell_type": "code",
   "execution_count": 3,
   "id": "fbb59c73",
   "metadata": {},
   "outputs": [],
   "source": [
    "def mediapipe_detection(image, model):\n",
    "    image = cv2.cvtColor(image, cv2.COLOR_BGR2RGB) # COLOR CONVERSION BGR 2 RGB\n",
    "    image.flags.writeable = False                  # Image is no longer writeable\n",
    "    results = model.process(image)                 # Make prediction\n",
    "    image.flags.writeable = True                   # Image is now writeable \n",
    "    image = cv2.cvtColor(image, cv2.COLOR_RGB2BGR) # COLOR COVERSION RGB 2 BGR\n",
    "    return image, results"
   ]
  },
  {
   "cell_type": "code",
   "execution_count": 4,
   "id": "cd31511b",
   "metadata": {},
   "outputs": [],
   "source": [
    "def draw_landmarks(image, results):\n",
    "    mp_drawing.draw_landmarks(image, results.face_landmarks, mp_holistic.FACEMESH_CONTOURS) # Draw face connections\n",
    "    mp_drawing.draw_landmarks(image, results.pose_landmarks, mp_holistic.POSE_CONNECTIONS) # Draw pose connections\n",
    "    mp_drawing.draw_landmarks(image, results.left_hand_landmarks, mp_holistic.HAND_CONNECTIONS) # Draw left hand connections\n",
    "    mp_drawing.draw_landmarks(image, results.right_hand_landmarks, mp_holistic.HAND_CONNECTIONS) # Draw right hand connections"
   ]
  },
  {
   "cell_type": "code",
   "execution_count": 5,
   "id": "58f295d3",
   "metadata": {},
   "outputs": [],
   "source": [
    "def draw_styled_landmarks(image, results):\n",
    "    # Draw face connections\n",
    "    mp_drawing.draw_landmarks(image, results.face_landmarks, mp_holistic.FACEMESH_CONTOURS, \n",
    "                             mp_drawing.DrawingSpec(color=(80,110,10), thickness=1, circle_radius=1), \n",
    "                             mp_drawing.DrawingSpec(color=(80,256,121), thickness=1, circle_radius=1)\n",
    "                             ) \n",
    "    # Draw pose connections\n",
    "    mp_drawing.draw_landmarks(image, results.pose_landmarks, mp_holistic.POSE_CONNECTIONS,\n",
    "                             mp_drawing.DrawingSpec(color=(80,22,10), thickness=2, circle_radius=4), \n",
    "                             mp_drawing.DrawingSpec(color=(80,44,121), thickness=2, circle_radius=2)\n",
    "                             ) \n",
    "    # Draw left hand connections\n",
    "    mp_drawing.draw_landmarks(image, results.left_hand_landmarks, mp_holistic.HAND_CONNECTIONS, \n",
    "                             mp_drawing.DrawingSpec(color=(121,22,76), thickness=2, circle_radius=4), \n",
    "                             mp_drawing.DrawingSpec(color=(121,44,250), thickness=2, circle_radius=2)\n",
    "                             ) \n",
    "    # Draw right hand connections  \n",
    "    mp_drawing.draw_landmarks(image, results.right_hand_landmarks, mp_holistic.HAND_CONNECTIONS, \n",
    "                             mp_drawing.DrawingSpec(color=(245,117,66), thickness=2, circle_radius=4), \n",
    "                             mp_drawing.DrawingSpec(color=(245,66,230), thickness=2, circle_radius=2)\n",
    "                             ) "
   ]
  },
  {
   "cell_type": "code",
   "execution_count": 6,
   "id": "6efae48c",
   "metadata": {},
   "outputs": [],
   "source": [
    "cap = cv2.VideoCapture(0)\n",
    "results=[]\n",
    "# Set mediapipe model \n",
    "with mp_holistic.Holistic(min_detection_confidence=0.5, min_tracking_confidence=0.5) as holistic:\n",
    "    while cap.isOpened():\n",
    "\n",
    "        # Read feed\n",
    "        ret, frame = cap.read()\n",
    "\n",
    "        # Make detections\n",
    "        image, results = mediapipe_detection(frame, holistic)\n",
    "        #print(results)\n",
    "        \n",
    "        # Draw landmarks\n",
    "        draw_styled_landmarks(image, results)\n",
    "\n",
    "        # Show to screen\n",
    "        cv2.imshow('OpenCV Feed', image)\n",
    "\n",
    "        # Break gracefully\n",
    "        if cv2.waitKey(10) & 0xFF == ord('q'):\n",
    "            break\n",
    "    cap.release()\n",
    "    cv2.destroyAllWindows()\n",
    "len(results.left_hand_landmarks.landmark)"
   ]
  },
  {
   "cell_type": "code",
   "execution_count": 7,
   "id": "4a1cccca",
   "metadata": {},
   "outputs": [],
   "source": [
    "def extract_keypoints(results):\n",
    "    pose = np.array([[res.x, res.y, res.z, res.visibility] for res in results.pose_landmarks.landmark]).flatten() if results.pose_landmarks else np.zeros(33*4)\n",
    "    face = np.array([[res.x, res.y, res.z] for res in results.face_landmarks.landmark]).flatten() if results.face_landmarks else np.zeros(468*3)\n",
    "    lh = np.array([[res.x, res.y, res.z] for res in results.left_hand_landmarks.landmark]).flatten() if results.left_hand_landmarks else np.zeros(21*3)\n",
    "    rh = np.array([[res.x, res.y, res.z] for res in results.right_hand_landmarks.landmark]).flatten() if results.right_hand_landmarks else np.zeros(21*3)\n",
    "    return np.concatenate([pose, face, lh, rh])"
   ]
  },
  {
   "cell_type": "code",
   "execution_count": 7,
   "id": "8493d6da",
   "metadata": {},
   "outputs": [],
   "source": [
    "from tqdm import tqdm\n",
    "\n",
    "TRAIN_DIR = 'D:/Agrima/animals_video'\n",
    "SAVE_DIR = 'D:/Agrima/animals_npy'\n",
    "IM_DIR = 'D:/Agrima/animals_IM'\n",
    "TRAIN_DIR1 = 'D:\\Agrima\\animals_video'\n",
    "SAVE_DIR1 = 'D:\\Agrima\\animals_npy'\n",
    "CATEGORIES = []\n",
    "train_dir = os.listdir(TRAIN_DIR)\n",
    "IMG_SIZE = 224\n",
    "for folder in train_dir:\n",
    "    CATEGORIES.append(folder)\n",
    "cat_len=len(CATEGORIES)\n",
    "    \n",
    "# # for category in CATEGORIES:\n",
    "# #     for img in tqdm(os.listdir(TRAIN_DIR)):\n",
    "# #         try: \n",
    "# #             os.makedirs(os.path.join(SAVE_DIR1, category, img))\n",
    "# #         except:\n",
    "# #             pass\n",
    "        \n",
    "# '''Creating the training data'''\n",
    "# # def create_train_data():\n",
    "# with mp_holistic.Holistic(min_detection_confidence=0.5, min_tracking_confidence=0.5) as holistic:\n",
    "#     for category in CATEGORIES:\n",
    "#         path=TRAIN_DIR+\"/\"+category\n",
    "#         path2=SAVE_DIR+\"/\"+category\n",
    "#         path3=IM_DIR+\"/\"+category\n",
    "#         if not os.path.exists(path2): \n",
    "#             os.makedirs(path2) \n",
    "#         if not os.path.exists(path3): \n",
    "#             os.makedirs(path3) \n",
    "\n",
    "#         for img in tqdm(os.listdir(path)):\n",
    "#             path12=path2+\"/\"+str(img)\n",
    "#             path13=path3+\"/\"+str(img)\n",
    "#             if not os.path.exists(path12): \n",
    "#                 os.makedirs(path12)\n",
    "#             if not os.path.exists(path13): \n",
    "#                 os.makedirs(path13)\n",
    "#             img_array = cv2.VideoCapture((path+\"/\"+img))\n",
    "#              # Read feed\n",
    "#             i = 0\n",
    "#             while(True):\n",
    "#                 ret,frame = img_array.read()\n",
    "#                 if ret:\n",
    "#                     frame = cv2.resize(frame,(IMG_SIZE,IMG_SIZE),fx=0,fy=0, interpolation = cv2.INTER_CUBIC)\n",
    "#                 # Make detections\n",
    "#                     image, results = mediapipe_detection(frame, holistic)\n",
    "#                     draw_styled_landmarks(image, results)\n",
    "#                     im_path = path13 +\"/\"+ str(i) + \".jpg\"\n",
    "#                     cv2.imwrite(im_path, image)\n",
    "#                 # Draw landmarks\n",
    "#                 #draw_styled_landmarks(image, results)\n",
    "#                     keypoints = extract_keypoints(results)\n",
    "#                     npy_path = path12 +\"/\"+ str(i) \n",
    "#                     np.save(npy_path, keypoints)\n",
    "#                     i = i + 1\n",
    "#                 else:\n",
    "#                     break\n",
    "\n",
    "\n",
    "# img_array.release()\n",
    "# cv2.destroyAllWindows()"
   ]
  },
  {
   "cell_type": "code",
   "execution_count": 8,
   "id": "e32ea0c4",
   "metadata": {},
   "outputs": [
    {
     "name": "stderr",
     "output_type": "stream",
     "text": [
      "100%|██████████████████████████████████████████████████████████████████████████████████| 50/50 [00:00<00:00, 84.71it/s]\n",
      "100%|████████████████████████████████████████████████████████████████████████████████| 162/162 [00:02<00:00, 80.87it/s]\n",
      "100%|████████████████████████████████████████████████████████████████████████████████| 171/171 [00:02<00:00, 78.54it/s]\n",
      "100%|████████████████████████████████████████████████████████████████████████████████| 172/172 [00:02<00:00, 80.48it/s]\n",
      "100%|████████████████████████████████████████████████████████████████████████████████| 177/177 [00:02<00:00, 78.74it/s]\n",
      "100%|████████████████████████████████████████████████████████████████████████████████| 164/164 [00:02<00:00, 78.76it/s]\n",
      "100%|████████████████████████████████████████████████████████████████████████████████| 219/219 [00:02<00:00, 79.16it/s]\n",
      "100%|████████████████████████████████████████████████████████████████████████████████| 197/197 [00:02<00:00, 79.36it/s]\n",
      "100%|████████████████████████████████████████████████████████████████████████████████| 159/159 [00:02<00:00, 78.83it/s]\n",
      "100%|████████████████████████████████████████████████████████████████████████████████| 152/152 [00:01<00:00, 85.46it/s]\n",
      "100%|████████████████████████████████████████████████████████████████████████████████| 228/228 [00:02<00:00, 79.37it/s]\n",
      "100%|████████████████████████████████████████████████████████████████████████████████| 150/150 [00:01<00:00, 78.12it/s]\n"
     ]
    }
   ],
   "source": [
    "from sklearn.model_selection import train_test_split\n",
    "from tensorflow.keras.utils import to_categorical\n",
    "\n",
    "label_map = {label:num for num, label in enumerate(CATEGORIES)}\n",
    "\n",
    "sequences, labels, res = [], [], []\n",
    "for category in CATEGORIES:\n",
    "    path=TRAIN_DIR+\"/\"+category\n",
    "    path2=SAVE_DIR+\"/\"+category\n",
    "    for img in tqdm(os.listdir(path)):\n",
    "        path12=path2+\"/\"+str(img)\n",
    "        window = []\n",
    "        for i in range(28):\n",
    "            res = np.load(path12+\"/\"+ str(i)+\".npy\")\n",
    "            \n",
    "           #print(path12+\"/\"+ str(i)+\".npy\")\n",
    "            window.append(res)\n",
    "        sequences.append(window)\n",
    "        labels.append(label_map[category])\n",
    "        "
   ]
  },
  {
   "cell_type": "code",
   "execution_count": 9,
   "id": "dac78ef4",
   "metadata": {},
   "outputs": [],
   "source": [
    "X = np.array(sequences)\n",
    "y = to_categorical(labels).astype(int)\n",
    "X_train, X_test, y_train, y_test = train_test_split(X, y, test_size=0.2)"
   ]
  },
  {
   "cell_type": "code",
   "execution_count": 10,
   "id": "81a0044f",
   "metadata": {},
   "outputs": [],
   "source": [
    "from tensorflow.keras.models import Sequential\n",
    "from tensorflow.keras.layers import LSTM, Dense\n",
    "from tensorflow.keras.callbacks import TensorBoard"
   ]
  },
  {
   "cell_type": "code",
   "execution_count": 11,
   "id": "eb53f5c6",
   "metadata": {},
   "outputs": [
    {
     "name": "stdout",
     "output_type": "stream",
     "text": [
      "WARNING:tensorflow:Layer lstm will not use cuDNN kernels since it doesn't meet the criteria. It will use a generic GPU kernel as fallback when running on GPU.\n",
      "WARNING:tensorflow:Layer lstm_1 will not use cuDNN kernels since it doesn't meet the criteria. It will use a generic GPU kernel as fallback when running on GPU.\n",
      "WARNING:tensorflow:Layer lstm_2 will not use cuDNN kernels since it doesn't meet the criteria. It will use a generic GPU kernel as fallback when running on GPU.\n"
     ]
    }
   ],
   "source": [
    "model = Sequential()\n",
    "model.add(LSTM(64, return_sequences=True, activation='relu', input_shape=(28,1662)))\n",
    "model.add(LSTM(128, return_sequences=True, activation='relu'))\n",
    "model.add(LSTM(64, return_sequences=False, activation='relu'))\n",
    "model.add(Dense(64, activation='relu'))\n",
    "model.add(Dense(32, activation='relu'))\n",
    "model.add(Dense(len(CATEGORIES), activation='softmax'))"
   ]
  },
  {
   "cell_type": "code",
   "execution_count": 26,
   "id": "5d89b3b8",
   "metadata": {},
   "outputs": [],
   "source": [
    "import tensorflow as tf\n",
    "model = tf.keras.Sequential([\n",
    "    tf.keras.layers.Conv2D(32, (3,3), padding='same', activation=tf.nn.relu,\n",
    "                           input_shape=(28,1662,1)),\n",
    "    tf.keras.layers.MaxPooling2D((2, 2), strides=2),\n",
    "    tf.keras.layers.Conv2D(32, (3,3), padding='same', activation=tf.nn.relu),\n",
    "    tf.keras.layers.MaxPooling2D((2, 2), strides=2),\n",
    "    tf.keras.layers.Dropout(0.5),\n",
    "    tf.keras.layers.Flatten(),\n",
    "    tf.keras.layers.Dense(128, activation=tf.nn.relu),\n",
    "    tf.keras.layers.Dense(cat_len,  activation=tf.nn.softmax)\n",
    "])\n",
    "# model.compile(optimizer='adam',loss='sparse_categorical_crossentropy',metrics=['accuracy'])"
   ]
  },
  {
   "cell_type": "code",
   "execution_count": 15,
   "id": "3881572b",
   "metadata": {},
   "outputs": [
    {
     "name": "stdout",
     "output_type": "stream",
     "text": [
      "WARNING:tensorflow:`period` argument is deprecated. Please use `save_freq` to specify the frequency in number of batches seen.\n"
     ]
    }
   ],
   "source": [
    "from tensorflow.keras.callbacks import ModelCheckpoint\n",
    "from tensorflow.keras.callbacks import ReduceLROnPlateau\n",
    "from keras import callbacks\n",
    "model.compile(optimizer='Adam', loss='categorical_crossentropy', metrics=['accuracy'])\n",
    "checkpoint = ModelCheckpoint(\"D:/Agrima/animals_video/mp_4layer.h5\", monitor=\"val_loss\", verbose=1,\n",
    "                              save_best_only=True, mode='auto', period=1)\n",
    "reduce = ReduceLROnPlateau(monitor=\"val_loss\", factor=0.2, patience=5, \n",
    "                           min_lr=0.0001, verbose = 1)\n",
    "earlystopping = callbacks.EarlyStopping(monitor=\"val_loss\", patience = 5, restore_best_weights = True)\n"
   ]
  },
  {
   "cell_type": "code",
   "execution_count": null,
   "id": "15aff4b3",
   "metadata": {},
   "outputs": [],
   "source": [
    "history = model.fit(X_train, y_train, batch_size = 16, epochs = 40, verbose = 1, validation_data = (X_test, y_test),\n",
    "                   callbacks= [earlystopping,checkpoint])\n"
   ]
  },
  {
   "cell_type": "code",
   "execution_count": 14,
   "id": "f6e3f7cf",
   "metadata": {},
   "outputs": [
    {
     "ename": "NameError",
     "evalue": "name 'checkpoint' is not defined",
     "output_type": "error",
     "traceback": [
      "\u001b[1;31m---------------------------------------------------------------------------\u001b[0m",
      "\u001b[1;31mNameError\u001b[0m                                 Traceback (most recent call last)",
      "\u001b[1;32m~\\AppData\\Local\\Temp/ipykernel_8216/871098714.py\u001b[0m in \u001b[0;36m<module>\u001b[1;34m\u001b[0m\n\u001b[1;32m----> 1\u001b[1;33m \u001b[0mmodel\u001b[0m\u001b[1;33m.\u001b[0m\u001b[0mfit\u001b[0m\u001b[1;33m(\u001b[0m\u001b[0mX_train\u001b[0m\u001b[1;33m,\u001b[0m \u001b[0my_train\u001b[0m\u001b[1;33m,\u001b[0m \u001b[0mepochs\u001b[0m\u001b[1;33m=\u001b[0m\u001b[1;36m500\u001b[0m\u001b[1;33m,\u001b[0m \u001b[0mvalidation_data\u001b[0m\u001b[1;33m=\u001b[0m\u001b[1;33m(\u001b[0m\u001b[0mX_test\u001b[0m\u001b[1;33m,\u001b[0m \u001b[0my_test\u001b[0m\u001b[1;33m)\u001b[0m\u001b[1;33m,\u001b[0m \u001b[0mcallbacks\u001b[0m\u001b[1;33m=\u001b[0m\u001b[1;33m[\u001b[0m\u001b[0mcheckpoint\u001b[0m\u001b[1;33m,\u001b[0m\u001b[0mreduce\u001b[0m\u001b[1;33m]\u001b[0m\u001b[1;33m)\u001b[0m\u001b[1;33m\u001b[0m\u001b[1;33m\u001b[0m\u001b[0m\n\u001b[0m",
      "\u001b[1;31mNameError\u001b[0m: name 'checkpoint' is not defined"
     ]
    }
   ],
   "source": [
    "model.fit(X_train, y_train, epochs=500, validation_data=(X_test, y_test), callbacks=[checkpoint,reduce])"
   ]
  },
  {
   "cell_type": "code",
   "execution_count": 8,
   "id": "addb7763",
   "metadata": {},
   "outputs": [],
   "source": [
    "from keras.models import load_model\n",
    "model = load_model('D:/Agrima/animals_video/mp_4layer.h5')"
   ]
  },
  {
   "cell_type": "code",
   "execution_count": 17,
   "id": "a8302539",
   "metadata": {},
   "outputs": [
    {
     "data": {
      "text/plain": [
       "array([[[391,   1],\n",
       "        [  0,   9]],\n",
       "\n",
       "       [[370,   1],\n",
       "        [  0,  30]],\n",
       "\n",
       "       [[370,   0],\n",
       "        [  1,  30]],\n",
       "\n",
       "       [[356,   7],\n",
       "        [  2,  36]],\n",
       "\n",
       "       [[362,   1],\n",
       "        [  0,  38]],\n",
       "\n",
       "       [[364,   7],\n",
       "        [  0,  30]],\n",
       "\n",
       "       [[352,   1],\n",
       "        [  5,  43]],\n",
       "\n",
       "       [[361,   1],\n",
       "        [  0,  39]],\n",
       "\n",
       "       [[370,   2],\n",
       "        [  1,  28]],\n",
       "\n",
       "       [[363,   0],\n",
       "        [  1,  37]],\n",
       "\n",
       "       [[361,   0],\n",
       "        [  5,  35]],\n",
       "\n",
       "       [[369,   1],\n",
       "        [  7,  24]]], dtype=int64)"
      ]
     },
     "execution_count": 17,
     "metadata": {},
     "output_type": "execute_result"
    }
   ],
   "source": [
    "from sklearn.metrics import multilabel_confusion_matrix, accuracy_score\n",
    "yhat = model.predict(X_test)\n",
    "ytrue = np.argmax(y_test, axis=1).tolist()\n",
    "yhat = np.argmax(yhat, axis=1).tolist()\n",
    "multilabel_confusion_matrix(ytrue, yhat)\n"
   ]
  },
  {
   "cell_type": "code",
   "execution_count": 35,
   "id": "eb987fc6",
   "metadata": {},
   "outputs": [
    {
     "data": {
      "text/plain": [
       "0.85785536159601"
      ]
     },
     "execution_count": 35,
     "metadata": {},
     "output_type": "execute_result"
    }
   ],
   "source": [
    "accuracy_score(ytrue, yhat)"
   ]
  },
  {
   "cell_type": "code",
   "execution_count": 70,
   "id": "2ead7c3f",
   "metadata": {},
   "outputs": [],
   "source": [
    "color = (245,117,16)\n",
    "def prob_viz(res, CATEGORIES, input_frame, colors):\n",
    "    output_frame = input_frame.copy()\n",
    "#     np.sort(res)[::-1]\n",
    "#     print((res))\n",
    "    for num, prob in enumerate(res):\n",
    "        #print(num,prob)\n",
    "        cv2.rectangle(output_frame, (0,60+num*30), (int(prob*100), 90+num*30), color, -1)\n",
    "        cv2.putText(output_frame, CATEGORIES[num], (0, 80+num*30), cv2.FONT_HERSHEY_SIMPLEX, 0.75, (255,255,255), 2, cv2.LINE_AA)\n",
    "        \n",
    "    return output_frame"
   ]
  },
  {
   "cell_type": "code",
   "execution_count": 37,
   "id": "4190aae8",
   "metadata": {},
   "outputs": [
    {
     "data": {
      "text/plain": [
       "<Figure size 1296x1296 with 0 Axes>"
      ]
     },
     "execution_count": 37,
     "metadata": {},
     "output_type": "execute_result"
    },
    {
     "data": {
      "text/plain": [
       "<Figure size 1296x1296 with 0 Axes>"
      ]
     },
     "metadata": {},
     "output_type": "display_data"
    }
   ],
   "source": [
    "img_array = cv2.imread(('D:/Agrima/animals_SpatialData/test/cow/1.jpg'))\n",
    "img_array = cv2.resize(img_array, (IMG_SIZE, IMG_SIZE))\n",
    "plt.figure(figsize=(18,18))\n",
    "plt.imshow(prob_viz(res, CATEGORIES, img_array, colors))"
   ]
  },
  {
   "cell_type": "code",
   "execution_count": 21,
   "id": "c7bd98c7",
   "metadata": {},
   "outputs": [
    {
     "name": "stdout",
     "output_type": "stream",
     "text": [
      "1\n",
      "1\n",
      "3333nging\n"
     ]
    }
   ],
   "source": [
    "# # 1. New detection variables\n",
    "# sequence = []\n",
    "# sentence = []\n",
    "# threshold = 0.8\n",
    "\n",
    "# import time\n",
    "\n",
    "\n",
    "# # SET THE COUNTDOWN TIMER\n",
    "# # for simplicity we set it to 3\n",
    "# # We can also take this as input\n",
    "# TIMER = int(3)\n",
    "# cap = cv2.VideoCapture(0)\n",
    "# # Set mediapipe model \n",
    "# with mp_holistic.Holistic(min_detection_confidence=0.5, min_tracking_confidence=0.5) as holistic:\n",
    "#     while cap.isOpened():\n",
    "\n",
    "#         # Read feed\n",
    "#         ret, frame = cap.read()\n",
    "#         cv2.imshow('a',frame)\n",
    "#         k = cv2.waitKey(125)\n",
    "#         if k == ord('w'):\n",
    "#             prev = time.time()\n",
    "#             while TIMER >= 0:\n",
    "#                 ret, frame = cap.read()\n",
    "#                 font = cv2.FONT_HERSHEY_SIMPLEX\n",
    "#                 cv2.putText(frame, str(TIMER),\n",
    "#                             (200, 250), font,\n",
    "#                             7, (0, 255, 255),\n",
    "#                             4, cv2.LINE_AA)\n",
    "#                 cv2.imshow('a', frame)\n",
    "#                 cv2.waitKey(125)\n",
    "#                 cur = time.time()\n",
    "#                 if cur-prev >= 1:\n",
    "#                     prev = cur\n",
    "#                     TIMER = TIMER-1\n",
    "\n",
    "#             else:\n",
    "#                 ret, frame = cap.read()\n",
    "#                 cv2.imshow('a', frame)\n",
    "#                 image, results = mediapipe_detection(frame, holistic)\n",
    "#                 draw_styled_landmarks(image, results)\n",
    "#                 keypoints = extract_keypoints(results)\n",
    "#                 sequence.append(keypoints)\n",
    "#                 print(len(sequence))\n",
    "#                 sequence = sequence[-28:]\n",
    "#                 print(len(sequence))\n",
    "#                 print(\"3333nging\")\n",
    "        \n",
    "#                 if len(sequence) == 28:\n",
    "#                     print(\"4444nging\")\n",
    "#                     res = model.predict(np.expand_dims(sequence, axis=0))[0]\n",
    "#                     print(CATEGORIES[np.argmax(res)])\n",
    "#                     if res[np.argmax(res)] > threshold: \n",
    "#                         if len(sentence) > 0: \n",
    "#                             if CATEGORIES[np.argmax(res)] != sentence[-1]:\n",
    "#                                 sentence.append(CATEGORIES[np.argmax(res)])\n",
    "#                         else:\n",
    "#                             sentence.append(CATEGORIES[np.argmax(res)])\n",
    "#                     if len(sentence) > 5: \n",
    "#                         sentence = sentence[-5:]\n",
    "#                     image = prob_viz(res, CATEGORIES, image, colors)\n",
    "#                 cv2.rectangle(image, (0,0), (640, 40), (245, 117, 16), -1)\n",
    "#                 cv2.putText(image, ' '.join(sentence), (3,30), \n",
    "#                                cv2.FONT_HERSHEY_SIMPLEX, 1, (255, 255, 255), 2, cv2.LINE_AA)\n",
    "#                 cv2.imshow('b', image)\n",
    "\n",
    "#         # Break gracefully\n",
    "#         if cv2.waitKey(10) & 0xFF == ord('q'):\n",
    "#             break\n",
    "#     cap.release()\n",
    "#     cv2.destroyAllWindows()"
   ]
  },
  {
   "cell_type": "code",
   "execution_count": 79,
   "id": "25f0105e",
   "metadata": {},
   "outputs": [],
   "source": [
    "# 1. New detection variables\n",
    "sequence = []\n",
    "sentence = []\n",
    "threshold = 0.8\n",
    "\n",
    "cap = cv2.VideoCapture(0)\n",
    "# Set mediapipe model \n",
    "with mp_holistic.Holistic(min_detection_confidence=0.5, min_tracking_confidence=0.5) as holistic:\n",
    "    while cap.isOpened():\n",
    "\n",
    "        # Read feed\n",
    "        ret, frame = cap.read()\n",
    "\n",
    "        # Make detections\n",
    "        image, results = mediapipe_detection(frame, holistic)        \n",
    "        # Draw landmarks\n",
    "        draw_styled_landmarks(image, results)\n",
    "        \n",
    "        # 2. Prediction logic\n",
    "        keypoints = extract_keypoints(results)\n",
    "#         sequence.insert(0,keypoints)\n",
    "#         sequence = sequence[:30]\n",
    "        sequence.append(keypoints)\n",
    "        sequence = sequence[-28:]\n",
    "        \n",
    "        if len(sequence) == 28:\n",
    "            res = model.predict(np.expand_dims(sequence, axis=0))[0]\n",
    "            #print(CATEGORIES[np.argmax(res)])\n",
    "            \n",
    "            \n",
    "        #3. Viz logic\n",
    "            if res[np.argmax(res)] > threshold: \n",
    "                \n",
    "                if len(sentence) > 0: \n",
    "                    if CATEGORIES[np.argmax(res)] != sentence[-1]:\n",
    "                        sentence.append(CATEGORIES[np.argmax(res)])\n",
    "                else:\n",
    "                    sentence.append(CATEGORIES[np.argmax(res)])\n",
    "\n",
    "            if len(sentence) > 5: \n",
    "                sentence = sentence[-5:]\n",
    "\n",
    "            #Viz probabilities\n",
    "            image = prob_viz(res, CATEGORIES, image, color)\n",
    "            \n",
    "        cv2.rectangle(image, (0,0), (640, 40), (245, 117, 16), -1)\n",
    "        cv2.putText(image, ' '.join(sentence), (3,30), \n",
    "                       cv2.FONT_HERSHEY_SIMPLEX, 1, (255, 255, 255), 2, cv2.LINE_AA)\n",
    "#         cv2.putText(image,CATEGORIES[np.argmax(res)] , (3,30), \n",
    "#                        cv2.FONT_HERSHEY_SIMPLEX, 1, (255, 255, 255), 2, cv2.LINE_AA)\n",
    "    \n",
    "        # Show to screen\n",
    "        cv2.imshow('OpenCV Feed', image)\n",
    "\n",
    "        # Break gracefully\n",
    "        if cv2.waitKey(10) & 0xFF == ord('q'):\n",
    "            break\n",
    "    cap.release()\n",
    "    cv2.destroyAllWindows()"
   ]
  },
  {
   "cell_type": "code",
   "execution_count": 78,
   "id": "70515d7e",
   "metadata": {},
   "outputs": [
    {
     "name": "stdout",
     "output_type": "stream",
     "text": [
      "[8.5686316e-04 2.5739256e-02 2.5478982e-08 3.3693625e-05 1.0658009e-03\n",
      " 2.7856296e-01 1.1805955e-02 1.3177223e-05 2.5914696e-01 9.1112591e-04\n",
      " 1.2216684e-01 2.9969734e-01]\n"
     ]
    }
   ],
   "source": [
    "print((res))"
   ]
  },
  {
   "cell_type": "code",
   "execution_count": null,
   "id": "14f60fd9",
   "metadata": {},
   "outputs": [],
   "source": []
  }
 ],
 "metadata": {
  "kernelspec": {
   "display_name": "Python 3 (ipykernel)",
   "language": "python",
   "name": "python3"
  },
  "language_info": {
   "codemirror_mode": {
    "name": "ipython",
    "version": 3
   },
   "file_extension": ".py",
   "mimetype": "text/x-python",
   "name": "python",
   "nbconvert_exporter": "python",
   "pygments_lexer": "ipython3",
   "version": "3.9.7"
  }
 },
 "nbformat": 4,
 "nbformat_minor": 5
}
