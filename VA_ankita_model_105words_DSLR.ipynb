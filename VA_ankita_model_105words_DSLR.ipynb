{
 "cells": [
  {
   "cell_type": "code",
   "execution_count": null,
   "id": "d962aad3",
   "metadata": {},
   "outputs": [],
   "source": [
    "import keras\n",
    "import tensorflow as tf\n",
    "from tensorflow.keras.preprocessing.image import ImageDataGenerator\n",
    "from tensorflow.keras.layers import Input, Conv2D, MaxPool2D, Dropout, BatchNormalization, Dense, Flatten, LayerNormalization\n",
    "from tensorflow.keras.models import Sequential, Model\n",
    "from tensorflow.keras.optimizers import Adam\n",
    "import tensorflow.keras.applications as appl\n",
    "from sklearn.model_selection import train_test_split\n",
    "import os\n",
    "import cv2\n",
    "import time\n",
    "import random\n",
    "import numpy as np\n",
    "import matplotlib.pyplot as plt\n",
    "import seaborn as sns\n",
    "import sklearn.metrics as metricsmassey\n",
    "from tqdm import tqdm\n",
    "from tensorflow.keras.utils import Sequence\n",
    "from keras import callbacks  \n",
    "from keras.models import load_model\n",
    "from keras.utils import np_utils"
   ]
  },
  {
   "cell_type": "code",
   "execution_count": 2,
   "id": "90068cad",
   "metadata": {},
   "outputs": [],
   "source": [
    "load_path = \"E:/VA/105words_ankita_128/\""
   ]
  },
  {
   "cell_type": "code",
   "execution_count": 3,
   "id": "edaddf29",
   "metadata": {},
   "outputs": [],
   "source": [
    "CATEGORIES=np.load(load_path+'cat_105.npy', allow_pickle=True)"
   ]
  },
  {
   "cell_type": "code",
   "execution_count": 4,
   "id": "659cb729",
   "metadata": {},
   "outputs": [],
   "source": [
    "IMG_SIZE=128"
   ]
  },
  {
   "cell_type": "code",
   "execution_count": 5,
   "id": "12d7e2d6",
   "metadata": {},
   "outputs": [
    {
     "name": "stdout",
     "output_type": "stream",
     "text": [
      "['0' 'bull' '1' 'antelope' 'camel' 'bag' '2' 'cat' 'book' 'cow' '3'\n",
      " 'bottle' 'crocodile' 'colour' '4' 'dolphin' 'deer' '5' 'dupatta' 'dog'\n",
      " 'fast' '6' 'elephant' 'fish' '7' 'goat' 'frog' 'gun' '8' 'horse' 'hair'\n",
      " 'lion' '9' 'help' 'tiger' 'idea' 'internet' 'jeans' 'location' 'owl'\n",
      " 'pen' 'photo' 'rain' 'saree' 'A' 'school' 'B' 'accept' 'shoot' 'C' 'age'\n",
      " 'sun' 'assistant' 'technology' 'D' 'black' 'E' 'boot' 'F' 'card' 'G'\n",
      " 'cash' 'chicken' 'H' 'dance' 'I' 'earpods' 'J' 'handkerchief' 'K' 'home'\n",
      " 'L' 'human' 'M' 'keep' 'laptop' 'N' 'meet' 'O' 'mobile' 'P' 'monkey' 'Q'\n",
      " 'namastey' 'R' 'person' 'S' 'proof' 'signature' 'T' 'sleep' 'U' 'spider'\n",
      " 'V' 'stand' 'W' 'star' 'X' 'tv' 'umbrella' 'Y' 'white' 'Z' 'wolf'\n",
      " 'yellow']\n",
      "105\n"
     ]
    }
   ],
   "source": [
    "cat_len=len(CATEGORIES)\n",
    "print(CATEGORIES)\n",
    "print(cat_len)"
   ]
  },
  {
   "cell_type": "markdown",
   "id": "cc104aa6",
   "metadata": {},
   "source": [
    "# Save combined data npy"
   ]
  },
  {
   "cell_type": "code",
   "execution_count": 6,
   "id": "d4dd8029",
   "metadata": {},
   "outputs": [],
   "source": [
    "# model\n",
    "\n",
    "# model_name1 = 'InceptionResNetV2'\n",
    "# model_name1 = '4layer'\n",
    "model_name1 = 'ankita_the_model_dslr_105'\n",
    "#model_name2 = 'VGG16'\n",
    "# model_name1 = 'DenseNet121'\n",
    "# model_name1 = 'InceptionV3'"
   ]
  },
  {
   "cell_type": "markdown",
   "id": "fa37bec1",
   "metadata": {},
   "source": [
    "Loading"
   ]
  },
  {
   "cell_type": "code",
   "execution_count": 7,
   "id": "0def0f5d",
   "metadata": {},
   "outputs": [],
   "source": [
    "X=np.load(load_path+'X.npy', allow_pickle=True)\n",
    "Y=np.load(load_path+'Y.npy', allow_pickle=True)"
   ]
  },
  {
   "cell_type": "code",
   "execution_count": 8,
   "id": "bac9e4e1",
   "metadata": {},
   "outputs": [],
   "source": [
    "X = X.astype('float32')\n",
    "X /= 255\n"
   ]
  },
  {
   "cell_type": "code",
   "execution_count": 9,
   "id": "3b7322ba",
   "metadata": {},
   "outputs": [
    {
     "data": {
      "text/plain": [
       "(53805, 128, 128, 3)"
      ]
     },
     "execution_count": 9,
     "metadata": {},
     "output_type": "execute_result"
    }
   ],
   "source": [
    "X.shape"
   ]
  },
  {
   "cell_type": "code",
   "execution_count": 10,
   "id": "89586ad1",
   "metadata": {},
   "outputs": [
    {
     "name": "stdout",
     "output_type": "stream",
     "text": [
      "Splitting\n",
      "pass\n"
     ]
    }
   ],
   "source": [
    "print('Splitting') \n",
    "X_train, X_test, y_train, y_test = train_test_split(X, Y, test_size = 0.3, random_state = cat_len)\n",
    "X_train, X_new, y_train, y_new = train_test_split(X_train, y_train, test_size = 0.2, random_state = cat_len)\n",
    "X_train = np.array(X_train)\n",
    "y_train = np.array(y_train)\n",
    "X_test = np.array(X_test)\n",
    "y_test = np.array(y_test)\n",
    "X_new = np.array(X_new)\n",
    "y_new = np.array(y_new)\n",
    "\n",
    "print(\"pass\")"
   ]
  },
  {
   "cell_type": "code",
   "execution_count": 11,
   "id": "0ef1958b",
   "metadata": {},
   "outputs": [
    {
     "data": {
      "text/plain": [
       "(30130, 128, 128, 3)"
      ]
     },
     "execution_count": 11,
     "metadata": {},
     "output_type": "execute_result"
    }
   ],
   "source": [
    "X_train.shape"
   ]
  },
  {
   "cell_type": "code",
   "execution_count": 12,
   "id": "f26320e2",
   "metadata": {},
   "outputs": [],
   "source": [
    "del X,Y"
   ]
  },
  {
   "cell_type": "code",
   "execution_count": 13,
   "id": "f75aadef",
   "metadata": {},
   "outputs": [
    {
     "name": "stdout",
     "output_type": "stream",
     "text": [
      "Image Data Augmentation\n",
      "done\n"
     ]
    }
   ],
   "source": [
    "print('Image Data Augmentation')\n",
    "from keras.preprocessing.image import ImageDataGenerator\n",
    "val_generator = ImageDataGenerator(rotation_range=0, zoom_range=0.2, width_shift_range=0.2,\n",
    "    height_shift_range=0.2, shear_range=0.2)\n",
    "#                                     , horizontal_flip=True, brightness_range=[0.6,1.3])\n",
    "val_generator.fit(X_train)\n",
    "val_generator.fit(X_new)\n",
    "val_generator.fit(X_test)\n",
    "\n",
    "print(\"done\")"
   ]
  },
  {
   "cell_type": "code",
   "execution_count": 14,
   "id": "d50eee80",
   "metadata": {},
   "outputs": [
    {
     "data": {
      "text/plain": [
       "(30130, 128, 128, 3)"
      ]
     },
     "execution_count": 14,
     "metadata": {},
     "output_type": "execute_result"
    }
   ],
   "source": [
    "X_train.shape"
   ]
  },
  {
   "cell_type": "code",
   "execution_count": 15,
   "id": "082fccfa",
   "metadata": {},
   "outputs": [
    {
     "name": "stdout",
     "output_type": "stream",
     "text": [
      "Model: \"sequential\"\n",
      "_________________________________________________________________\n",
      " Layer (type)                Output Shape              Param #   \n",
      "=================================================================\n",
      " conv2d (Conv2D)             (None, 128, 128, 16)      448       \n",
      "                                                                 \n",
      " conv2d_1 (Conv2D)           (None, 126, 126, 16)      2320      \n",
      "                                                                 \n",
      " max_pooling2d (MaxPooling2D  (None, 63, 63, 16)       0         \n",
      " )                                                               \n",
      "                                                                 \n",
      " dropout (Dropout)           (None, 63, 63, 16)        0         \n",
      "                                                                 \n",
      " flatten (Flatten)           (None, 63504)             0         \n",
      "                                                                 \n",
      " dense (Dense)               (None, 64)                4064320   \n",
      "                                                                 \n",
      " dense_1 (Dense)             (None, 105)               6825      \n",
      "                                                                 \n",
      "=================================================================\n",
      "Total params: 4,073,913\n",
      "Trainable params: 4,073,913\n",
      "Non-trainable params: 0\n",
      "_________________________________________________________________\n"
     ]
    }
   ],
   "source": [
    "#ankita_model\n",
    "\n",
    "model = Sequential()\n",
    "\n",
    "model.add(Conv2D(16, (3, 3), input_shape = (IMG_SIZE,IMG_SIZE,3),padding='same', activation='relu'))         #1\n",
    "\n",
    "model.add(Conv2D(16, (3, 3), activation='relu'))                                              #2\n",
    "model.add(MaxPool2D(pool_size = (3,3), strides=2,padding='same'))#padding='same'\n",
    "model.add(Dropout(0.50))\n",
    "\n",
    "model.add(Flatten())\n",
    "\n",
    "model.add(Dense(64, activation = 'relu'))\n",
    "model.add(Dense(105, activation = 'softmax'))                                               #11\n",
    "\n",
    "model1=model\n",
    "model1.summary()"
   ]
  },
  {
   "cell_type": "code",
   "execution_count": 16,
   "id": "9a88ad52",
   "metadata": {},
   "outputs": [
    {
     "name": "stdout",
     "output_type": "stream",
     "text": [
      "Training model 1\n",
      "Epoch 1/1000\n",
      "603/603 [==============================] - 15s 15ms/step - loss: 2.4127 - accuracy: 0.3811 - val_loss: 0.8163 - val_accuracy: 0.7605\n",
      "Epoch 2/1000\n",
      "603/603 [==============================] - 7s 12ms/step - loss: 0.5808 - accuracy: 0.8236 - val_loss: 0.2903 - val_accuracy: 0.9174\n",
      "Epoch 3/1000\n",
      "603/603 [==============================] - 8s 12ms/step - loss: 0.2950 - accuracy: 0.9068 - val_loss: 0.1576 - val_accuracy: 0.9573\n",
      "Epoch 4/1000\n",
      "603/603 [==============================] - 8s 13ms/step - loss: 0.1946 - accuracy: 0.9394 - val_loss: 0.1022 - val_accuracy: 0.9722\n",
      "Epoch 5/1000\n",
      "603/603 [==============================] - 8s 12ms/step - loss: 0.1493 - accuracy: 0.9533 - val_loss: 0.1480 - val_accuracy: 0.9564\n",
      "Epoch 6/1000\n",
      "603/603 [==============================] - 7s 12ms/step - loss: 0.1193 - accuracy: 0.9621 - val_loss: 0.0650 - val_accuracy: 0.9807\n",
      "Epoch 7/1000\n",
      "603/603 [==============================] - 7s 12ms/step - loss: 0.0964 - accuracy: 0.9690 - val_loss: 0.0623 - val_accuracy: 0.9813\n",
      "Epoch 8/1000\n",
      "603/603 [==============================] - 8s 12ms/step - loss: 0.0933 - accuracy: 0.9699 - val_loss: 0.0480 - val_accuracy: 0.9867\n",
      "Epoch 9/1000\n",
      "603/603 [==============================] - 8s 13ms/step - loss: 0.0793 - accuracy: 0.9745 - val_loss: 0.0799 - val_accuracy: 0.9767\n",
      "Epoch 10/1000\n",
      "603/603 [==============================] - 8s 13ms/step - loss: 0.0782 - accuracy: 0.9735 - val_loss: 0.0372 - val_accuracy: 0.9888\n",
      "Epoch 11/1000\n",
      "603/603 [==============================] - 8s 13ms/step - loss: 0.0635 - accuracy: 0.9792 - val_loss: 0.0451 - val_accuracy: 0.9873\n",
      "Epoch 12/1000\n",
      "603/603 [==============================] - 8s 13ms/step - loss: 0.0605 - accuracy: 0.9802 - val_loss: 0.0454 - val_accuracy: 0.9872\n",
      "Epoch 13/1000\n",
      "603/603 [==============================] - 8s 12ms/step - loss: 0.0554 - accuracy: 0.9819 - val_loss: 0.0375 - val_accuracy: 0.9890\n",
      "Epoch 14/1000\n",
      "603/603 [==============================] - 8s 13ms/step - loss: 0.0537 - accuracy: 0.9825 - val_loss: 0.0501 - val_accuracy: 0.9864\n",
      "Epoch 15/1000\n",
      "603/603 [==============================] - 8s 13ms/step - loss: 0.0543 - accuracy: 0.9817 - val_loss: 0.0377 - val_accuracy: 0.9889\n",
      "Epoch 16/1000\n",
      "603/603 [==============================] - 8s 12ms/step - loss: 0.0450 - accuracy: 0.9853 - val_loss: 0.0258 - val_accuracy: 0.9939\n",
      "Epoch 17/1000\n",
      "603/603 [==============================] - 8s 12ms/step - loss: 0.0505 - accuracy: 0.9842 - val_loss: 0.0368 - val_accuracy: 0.9889\n",
      "Epoch 18/1000\n",
      "603/603 [==============================] - 7s 12ms/step - loss: 0.0421 - accuracy: 0.9862 - val_loss: 0.0376 - val_accuracy: 0.9890\n",
      "Epoch 19/1000\n",
      "603/603 [==============================] - 7s 12ms/step - loss: 0.0385 - accuracy: 0.9869 - val_loss: 0.0324 - val_accuracy: 0.9913\n",
      "Epoch 20/1000\n",
      "603/603 [==============================] - 7s 12ms/step - loss: 0.0454 - accuracy: 0.9850 - val_loss: 0.0260 - val_accuracy: 0.9928\n",
      "Epoch 21/1000\n",
      "603/603 [==============================] - 8s 13ms/step - loss: 0.0417 - accuracy: 0.9860 - val_loss: 0.0227 - val_accuracy: 0.9931\n",
      "Epoch 22/1000\n",
      "603/603 [==============================] - 8s 13ms/step - loss: 0.0320 - accuracy: 0.9895 - val_loss: 0.0255 - val_accuracy: 0.9922\n",
      "Epoch 23/1000\n",
      "603/603 [==============================] - 8s 12ms/step - loss: 0.0311 - accuracy: 0.9905 - val_loss: 0.0273 - val_accuracy: 0.9923\n",
      "Epoch 24/1000\n",
      "603/603 [==============================] - 8s 13ms/step - loss: 0.0361 - accuracy: 0.9887 - val_loss: 0.0271 - val_accuracy: 0.9926\n",
      "Epoch 25/1000\n",
      "603/603 [==============================] - 8s 13ms/step - loss: 0.0392 - accuracy: 0.9881 - val_loss: 0.0270 - val_accuracy: 0.9934\n",
      "Epoch 26/1000\n",
      "603/603 [==============================] - 8s 13ms/step - loss: 0.0273 - accuracy: 0.9910 - val_loss: 0.0322 - val_accuracy: 0.9916\n",
      "Epoch 27/1000\n",
      "603/603 [==============================] - 8s 13ms/step - loss: 0.0354 - accuracy: 0.9890 - val_loss: 0.0234 - val_accuracy: 0.9934\n",
      "Epoch 28/1000\n",
      "603/603 [==============================] - 8s 12ms/step - loss: 0.0280 - accuracy: 0.9907 - val_loss: 0.0287 - val_accuracy: 0.9905\n",
      "Epoch 29/1000\n",
      "603/603 [==============================] - 8s 13ms/step - loss: 0.0300 - accuracy: 0.9907 - val_loss: 0.0172 - val_accuracy: 0.9956\n",
      "Epoch 30/1000\n",
      "603/603 [==============================] - 8s 13ms/step - loss: 0.0241 - accuracy: 0.9920 - val_loss: 0.0263 - val_accuracy: 0.9937\n",
      "Epoch 31/1000\n",
      "603/603 [==============================] - 7s 12ms/step - loss: 0.0235 - accuracy: 0.9927 - val_loss: 0.0235 - val_accuracy: 0.9939\n",
      "Epoch 32/1000\n",
      "603/603 [==============================] - 8s 13ms/step - loss: 0.0310 - accuracy: 0.9905 - val_loss: 0.0203 - val_accuracy: 0.9946\n",
      "Epoch 33/1000\n",
      "603/603 [==============================] - 8s 13ms/step - loss: 0.0244 - accuracy: 0.9924 - val_loss: 0.0231 - val_accuracy: 0.9936\n",
      "Epoch 34/1000\n",
      "603/603 [==============================] - 8s 13ms/step - loss: 0.0268 - accuracy: 0.9917 - val_loss: 0.0190 - val_accuracy: 0.9952\n",
      "Epoch 35/1000\n",
      "603/603 [==============================] - 8s 13ms/step - loss: 0.0302 - accuracy: 0.9904 - val_loss: 0.0220 - val_accuracy: 0.9938\n",
      "Epoch 36/1000\n",
      "603/603 [==============================] - 8s 13ms/step - loss: 0.0196 - accuracy: 0.9931 - val_loss: 0.0190 - val_accuracy: 0.9952\n",
      "Epoch 37/1000\n",
      "603/603 [==============================] - 8s 13ms/step - loss: 0.0266 - accuracy: 0.9926 - val_loss: 0.0217 - val_accuracy: 0.9944\n",
      "Epoch 38/1000\n",
      "603/603 [==============================] - 8s 13ms/step - loss: 0.0229 - accuracy: 0.9928 - val_loss: 0.0252 - val_accuracy: 0.9930\n",
      "Epoch 39/1000\n",
      "603/603 [==============================] - 8s 13ms/step - loss: 0.0244 - accuracy: 0.9922 - val_loss: 0.0185 - val_accuracy: 0.9950\n"
     ]
    }
   ],
   "source": [
    "print('Training model 1')\n",
    "# opt = Adam(learning_rate=0.00001)\n",
    "opt = Adam()\n",
    "earlystopping = callbacks.EarlyStopping(monitor=\"val_loss\", patience = 10, restore_best_weights = True)\n",
    "model1.compile(optimizer=opt,loss='categorical_crossentropy',metrics=['accuracy'])\n",
    "# model1.summary()\n",
    "\n",
    "\n",
    "\n",
    "history_const = model1.fit(X_train, y_train,batch_size=50, epochs = 1000, validation_data=(X_test,y_test),\n",
    "                   callbacks= [earlystopping])\n"
   ]
  },
  {
   "cell_type": "code",
   "execution_count": 17,
   "id": "7d5b72d6",
   "metadata": {},
   "outputs": [
    {
     "name": "stdout",
     "output_type": "stream",
     "text": [
      "Saving\n",
      "saved\n"
     ]
    }
   ],
   "source": [
    "print('Saving')\n",
    "np.save(load_path+model_name1+'_history.npy',history_const.history)\n",
    "model1.save(load_path+model_name1+'_model.h5') \n",
    "print(\"saved\")"
   ]
  },
  {
   "cell_type": "code",
   "execution_count": null,
   "id": "f40f84c9",
   "metadata": {},
   "outputs": [],
   "source": [
    "# #load saved history\n",
    "history_const=np.load(load_path+model_name1+'_history.npy',allow_pickle='TRUE').item()\n",
    "\n",
    "# #load saved model\n",
    "model1=load_model(load_path+model_name1+'_model.h5')\n",
    "\n",
    "print(\"loaded\")\n",
    "model1.summary()"
   ]
  },
  {
   "cell_type": "code",
   "execution_count": 18,
   "id": "caf213f3",
   "metadata": {},
   "outputs": [
    {
     "name": "stdout",
     "output_type": "stream",
     "text": [
      "Plots\n"
     ]
    },
    {
     "data": {
      "image/png": "[encoded data removed]",
      "text/plain": [
       "<Figure size 432x288 with 1 Axes>"
      ]
     },
     "metadata": {
      "needs_background": "light"
     },
     "output_type": "display_data"
    },
    {
     "data": {
      "image/png": "[encoded data removed]",
      "text/plain": [
       "<Figure size 432x288 with 1 Axes>"
      ]
     },
     "metadata": {
      "needs_background": "light"
     },
     "output_type": "display_data"
    }
   ],
   "source": [
    "print('Plots')\n",
    "plt.plot(history_const.history['loss'])\n",
    "plt.plot(history_const.history['val_loss'])\n",
    "plt.title('model loss')\n",
    "plt.ylabel('loss')\n",
    "plt.xlabel('epoch')\n",
    "plt.legend(['train', 'val'], loc='upper left')\n",
    "# plt.savefig('F:/VA/onehandtwohand/26words_DSLR_results/'+model_name1+'_loss.png')\n",
    "plt.savefig(load_path+model_name1+'_loss.png')\n",
    "plt.show()\n",
    "plt.plot(history_const.history['accuracy'])\n",
    "plt.plot(history_const.history['val_accuracy'])\n",
    "plt.title('model accuracy')\n",
    "plt.ylabel('accuracy')\n",
    "\n",
    "plt.xlabel('epoch')\n",
    "plt.legend(['train', 'val'], loc='upper left')\n",
    "plt.savefig(load_path+model_name1+'_accuracy.png')\n",
    "plt.show()"
   ]
  },
  {
   "cell_type": "code",
   "execution_count": null,
   "id": "4006fd26",
   "metadata": {},
   "outputs": [],
   "source": [
    "from sklearn import metrics\n",
    "print('Confusion matrix')\n",
    "Y_pred = model1.predict(X_new)\n",
    "y_pred = np.argmax(Y_pred, axis=1)\n",
    "y_test1 = np.argmax(y_new, axis=1)\n",
    "\n",
    "cm=metrics.confusion_matrix(y_test1, y_pred)\n",
    "\n",
    "\n",
    "cm = cm.astype('float') / cm.sum(axis=1)[:, np.newaxis]\n",
    "a4_dims = (40, 30)\n",
    "fig,ax= plt.subplots(figsize=a4_dims)\n",
    "sns.heatmap(cm, annot=True, fmt=\".2f\", ax=ax,  linewidth=.5);  \n",
    "ax.set_xlabel('Predicted labels');ax.set_ylabel('True labels'); \n",
    "ax.set_title('Confusion Matrix'); \n",
    "ax.set_xticklabels(CATEGORIES)\n",
    "ax.set_yticklabels(CATEGORIES)\n",
    "plt.xlabel('Predicted')\n",
    "plt.ylabel('True')\n",
    "plt.setp(ax.get_xticklabels(), rotation=90, horizontalalignment='right')\n",
    "plt.setp(ax.get_yticklabels(), rotation=0, horizontalalignment='right')\n",
    "plt.savefig(load_path+model_name1+'_cm.png',bbox_inches='tight')\n",
    "plt.show()\n"
   ]
  },
  {
   "cell_type": "code",
   "execution_count": null,
   "id": "c57902f0",
   "metadata": {},
   "outputs": [],
   "source": [
    "#PLot fractional incorrect misclassifications\n",
    "\n",
    "incorr_fraction = 1 - np.diag(cm) / np.sum(cm, axis=1)\n",
    "\n",
    "fig, ax = plt.subplots(figsize=(12,8))\n",
    "plt.bar(np.arange(cat_len), incorr_fraction)\n",
    "plt.xlabel('True Label')\n",
    "plt.ylabel('Fraction of incorrect predictions')\n",
    "plt.xticks(np.arange(cat_len), CATEGORIES)\n",
    "plt.savefig(load_path+model_name1+'_incorrect_percentage.png',bbox_inches='tight')\n",
    "plt.show()"
   ]
  },
  {
   "cell_type": "code",
   "execution_count": null,
   "id": "c596ec0b",
   "metadata": {},
   "outputs": [],
   "source": [
    "#CHECK RANDOM IMAGES FROM TESTED DATA WHETHER RIGHT OR WRONG\n",
    "\n",
    "i = random.randint(1,cat_len)\n",
    "plt.imshow(X_new[i,:,:,2]) \n",
    "print(\"Predicted Label: \", CATEGORIES[int(y_pred[i])])\n",
    "print(\"True Label: \", CATEGORIES[int(y_test1[i])])"
   ]
  },
  {
   "cell_type": "code",
   "execution_count": 25,
   "id": "13fc757b",
   "metadata": {},
   "outputs": [],
   "source": [
    "## For veryyyyyyyy beautiful webcam input:\n",
    "\n",
    "cap = cv2.VideoCapture(0)\n",
    "org = (20, 20)  \n",
    "org1 = (310, 20) \n",
    "fontScale = 0.65  \n",
    "font = cv2.FONT_HERSHEY_SIMPLEX\n",
    "# Blue color in BGR\n",
    "color = (130, 0, 0)  \n",
    "# Line thickness of 2 px\n",
    "thickness = 1 \n",
    "thickness1 = -1\n",
    "start_point = (0,0)\n",
    "end_point = (480,30)\n",
    "color1 = (255, 255, 255)  \n",
    "\n",
    "\n",
    "while cap.isOpened():\n",
    "#image from feeder\n",
    "    r, img_array = cap.read()\n",
    "    img_array = cv2.flip(img_array, 1)\n",
    "    image = img_array[:, 80:560, :]\n",
    "\n",
    "    img = cv2.resize(image, (IMG_SIZE, IMG_SIZE))\n",
    "    X = np.array(img).reshape(-1, IMG_SIZE, IMG_SIZE, 3)\n",
    "    X = X.astype('float32')\n",
    "    X /= 255\n",
    "    X = np.array(X)\n",
    "    Y = model1.predict(X,verbose=0)\n",
    "    #         print(np.argmax(Y))\n",
    "    if np.max(Y)>0.2:\n",
    "        # for display\n",
    "        image = cv2.rectangle(image, start_point, end_point, color1, thickness1)\n",
    "        image = cv2.rectangle(image, (0,30), (480,30), color, 2)\n",
    "        image = cv2.putText(image,\"Prediction: \"+ CATEGORIES[np.argmax(Y)], org, font, \n",
    "               fontScale, color, thickness, cv2.LINE_AA)\n",
    "        image = cv2.putText(image,\"Accuracy: \"+ \"%.2f\" % np.max(Y), org1, font, \n",
    "               fontScale, color, thickness, cv2.LINE_AA)\n",
    "    #             if np.max(Y)>0.95:\n",
    "        cv2.imwrite(load_path+'/ankita_test_images/'+CATEGORIES[np.argmax(Y)]+str(np.max(Y))+'.jpg',image)\n",
    "\n",
    "\n",
    "    cv2.imshow('Realtime testing', image)\n",
    "\n",
    "    if cv2.waitKey(10) & 0xFF == ord('q'):\n",
    "        break\n",
    "# close the camera\n",
    "cap.release()\n",
    "\n",
    "# close all the opened windows\n",
    "cv2.destroyAllWindows()"
   ]
  },
  {
   "cell_type": "markdown",
   "id": "794a50d2",
   "metadata": {},
   "source": [
    "# mediapipe testing"
   ]
  },
  {
   "cell_type": "markdown",
   "id": "8d08f7b9",
   "metadata": {},
   "source": [
    "# with hands"
   ]
  },
  {
   "cell_type": "code",
   "execution_count": null,
   "id": "21002dd0",
   "metadata": {},
   "outputs": [],
   "source": [
    "import cv2\n",
    "import mediapipe as mp\n",
    "mp_drawing = mp.solutions.drawing_utils\n",
    "mp_drawing_styles = mp.solutions.drawing_styles\n",
    "mp_hands = mp.solutions.hands\n",
    "\n",
    "def landmarks(img,results):\n",
    "      \n",
    "# hands\n",
    "    for hand_landmarks in results.multi_hand_landmarks:\n",
    "\n",
    "        mp_drawing.draw_landmarks(\n",
    "          img,\n",
    "          hand_landmarks,\n",
    "          mp_hands.HAND_CONNECTIONS,\n",
    "          mp_drawing_styles.get_default_hand_landmarks_style(),\n",
    "          mp_drawing_styles.get_default_hand_connections_style())"
   ]
  },
  {
   "cell_type": "code",
   "execution_count": null,
   "id": "086e6459",
   "metadata": {},
   "outputs": [],
   "source": [
    "## For veryyyyyyyy beautiful webcam input:\n",
    "\n",
    "cap = cv2.VideoCapture(0)\n",
    "org = (20, 20)  \n",
    "org1 = (310, 20) \n",
    "fontScale = 0.65  \n",
    "font = cv2.FONT_HERSHEY_SIMPLEX\n",
    "# Blue color in BGR\n",
    "color = (130, 0, 0)  \n",
    "# Line thickness of 2 px\n",
    "thickness = 1 \n",
    "thickness1 = -1\n",
    "start_point = (0,0)\n",
    "end_point = (480,30)\n",
    "color1 = (255, 255, 255)  \n",
    "\n",
    "with mp_hands.Hands(static_image_mode=False, max_num_hands=1,min_detection_confidence=0.5) as hands:\n",
    "    while cap.isOpened():\n",
    "        #image from feeder\n",
    "        r, img_array = cap.read()\n",
    "        img_array = cv2.flip(img_array, 1)\n",
    "        img_array = img_array[:, 80:560, :]\n",
    "        #to show\n",
    "        results = hands.process(cv2.cvtColor(img_array, cv2.COLOR_BGR2RGB))\n",
    "        \n",
    "        if not results.multi_hand_landmarks:  # exclude saving no hands\n",
    "            continue\n",
    "        landmarks(img_array, results)\n",
    "        # to predict\n",
    "        img = np.zeros([480,480,3],dtype=np.uint8)\n",
    "        img.fill(255) \n",
    "        landmarks(img,results) # from function\n",
    "        \n",
    "        # for prediction\n",
    "        IMG_SIZE=224\n",
    "        img = cv2.resize(img, (IMG_SIZE, IMG_SIZE))\n",
    "        img = cv2.cvtColor(img, cv2.COLOR_BGR2GRAY)\n",
    "        X = np.array(img).reshape(-1, IMG_SIZE, IMG_SIZE, 1)\n",
    "        X = X.astype('float32')\n",
    "        X /= 255\n",
    "        X = np.array(X)\n",
    "        Y = model1.predict(X,verbose=0)\n",
    "        \n",
    "        #to dhoe\n",
    "        if np.max(Y)>0.2:\n",
    "            # for display\n",
    "            image = cv2.rectangle(img_array, start_point, end_point, color1, thickness1)\n",
    "            image = cv2.rectangle(image, (0,30), (480,30), color, 2)\n",
    "            image = cv2.putText(image,\"Prediction: \"+ CATEGORIES[np.argmax(Y)], org, font, \n",
    "                   fontScale, color, thickness, cv2.LINE_AA)\n",
    "            image = cv2.putText(image,\"Accuracy: \"+ \"%.2f\" % np.max(Y), org1, font, \n",
    "                   fontScale, color, thickness, cv2.LINE_AA)\n",
    "            if np.max(Y)>0.95:\n",
    "                cv2.imwrite(load_path+'/15layer_massey224_test_images/'+CATEGORIES[np.argmax(Y)]\n",
    "                            +\"--\"+str(np.max(Y))+'.jpg',image)\n",
    "\n",
    "\n",
    "        cv2.imshow('Realtime testing', image)\n",
    "\n",
    "        if cv2.waitKey(10) & 0xFF == ord('q'):\n",
    "                break\n",
    "# close the camera\n",
    "cap.release()\n",
    "\n",
    "# close all the opened windows\n",
    "cv2.destroyAllWindows()"
   ]
  },
  {
   "cell_type": "markdown",
   "id": "965826ff",
   "metadata": {},
   "source": [
    "# With holistics"
   ]
  },
  {
   "cell_type": "code",
   "execution_count": 19,
   "id": "f40106c2",
   "metadata": {},
   "outputs": [],
   "source": [
    "import cv2\n",
    "import mediapipe as mp\n",
    "mp_drawing = mp.solutions.drawing_utils\n",
    "mp_drawing_styles = mp.solutions.drawing_styles\n",
    "mp_holistic = mp.solutions.holistic # Holistic model\n",
    "mp_drawing = mp.solutions.drawing_utils # Drawing utilities\n",
    "\n",
    "def mediapipe_detection(image, model):\n",
    "    image = cv2.cvtColor(image, cv2.COLOR_BGR2RGB) # COLOR CONVERSION BGR 2 RGB\n",
    "    image.flags.writeable = False                  # Image is no longer writeable\n",
    "    results = model.process(image)                 # Make prediction\n",
    "    image.flags.writeable = True                   # Image is now writeable \n",
    "    image = cv2.cvtColor(image, cv2.COLOR_RGB2BGR) # COLOR COVERSION RGB 2 BGR\n",
    "    return image, results\n",
    "    \n",
    "def draw_landmarks(image, results):   \n",
    "    #face\n",
    "    mp_drawing.draw_landmarks(\n",
    "        image,\n",
    "        results.face_landmarks,\n",
    "        mp_holistic.FACEMESH_CONTOURS,\n",
    "        landmark_drawing_spec=None,\n",
    "        connection_drawing_spec=mp_drawing_styles\n",
    "        .get_default_face_mesh_contours_style())\n",
    "#     #pose\n",
    "#     mp_drawing.draw_landmarks(\n",
    "#         image,\n",
    "#         results.pose_landmarks,\n",
    "#         mp_holistic.POSE_CONNECTIONS,\n",
    "#         landmark_drawing_spec=mp_drawing_styles\n",
    "#         .get_default_pose_landmarks_style())\n",
    "    \n",
    "    #left hand\n",
    "    mp_drawing.draw_landmarks(\n",
    "        image,\n",
    "        results.left_hand_landmarks,\n",
    "        mp_holistic.HAND_CONNECTIONS,\n",
    "#         landmark_drawing_spec=None,\n",
    "            mp_drawing_styles.get_default_hand_landmarks_style(),\n",
    "            mp_drawing_styles.get_default_hand_connections_style())\n",
    "    # right hand\n",
    "    mp_drawing.draw_landmarks(\n",
    "        image,\n",
    "        results.right_hand_landmarks,\n",
    "        mp_holistic.HAND_CONNECTIONS,\n",
    "#         landmark_drawing_spec=None,\n",
    "            mp_drawing_styles.get_default_hand_landmarks_style(),\n",
    "            mp_drawing_styles.get_default_hand_connections_style())"
   ]
  },
  {
   "cell_type": "code",
   "execution_count": 22,
   "id": "3a1bc8fa",
   "metadata": {},
   "outputs": [],
   "source": [
    "## For veryyyyyyyy beautiful webcam input:\n",
    "\n",
    "cap = cv2.VideoCapture(0)\n",
    "org = (20, 20)  \n",
    "org1 = (310, 20) \n",
    "fontScale = 0.65  \n",
    "font = cv2.FONT_HERSHEY_SIMPLEX\n",
    "# Blue color in BGR\n",
    "color = (130, 0, 0)  \n",
    "# Line thickness of 2 px\n",
    "thickness = 1 \n",
    "thickness1 = -1\n",
    "start_point = (0,0)\n",
    "end_point = (480,30)\n",
    "color1 = (255, 255, 255)  \n",
    "\n",
    "with mp_holistic.Holistic(min_detection_confidence=0.5,min_tracking_confidence=0.5) as holistic:\n",
    "      while cap.isOpened():\n",
    "        #image from feeder\n",
    "        r, img_array = cap.read()\n",
    "        img_array = cv2.flip(img_array, 1)\n",
    "        img_array = img_array[:, 80:560, :]\n",
    "        image, results = mediapipe_detection(img_array, holistic)\n",
    "        draw_landmarks(image, results)\n",
    "        if not (results.left_hand_landmarks or results.right_hand_landmarks):\n",
    "            continue\n",
    "\n",
    "        # white background\n",
    "        img = np.zeros([480,480,3],dtype=np.uint8)\n",
    "        img.fill(255) \n",
    "        draw_landmarks(img, results)\n",
    "\n",
    "        # for prediction\n",
    "        IMG_SIZE=128\n",
    "        img = cv2.resize(img, (IMG_SIZE, IMG_SIZE))\n",
    "        X = np.array(img).reshape(-1, IMG_SIZE, IMG_SIZE, 3)\n",
    "        X = X.astype('float32')\n",
    "        X /= 255\n",
    "        X = np.array(X)\n",
    "        Y = model1.predict(X,verbose=0)\n",
    "#         print(np.argmax(Y))\n",
    "        if np.max(Y)>0.2:\n",
    "            # for display\n",
    "            image = cv2.rectangle(image, start_point, end_point, color1, thickness1)\n",
    "            image = cv2.rectangle(image, (0,30), (480,30), color, 2)\n",
    "            image = cv2.putText(image,\"Prediction: \"+ CATEGORIES[np.argmax(Y)], org, font, \n",
    "                   fontScale, color, thickness, cv2.LINE_AA)\n",
    "            image = cv2.putText(image,\"Accuracy: \"+ \"%.2f\" % np.max(Y), org1, font, \n",
    "                   fontScale, color, thickness, cv2.LINE_AA)\n",
    "#             if np.max(Y)>0.95:\n",
    "#                 cv2.imwrite(load_path+'/15layer_99.72_test_images/'+CATEGORIES[np.argmax(Y)]+str(np.max(Y))+'.jpg',image)\n",
    "\n",
    "\n",
    "        cv2.imshow('Realtime testing', image)\n",
    "\n",
    "        if cv2.waitKey(10) & 0xFF == ord('q'):\n",
    "                break\n",
    "# close the camera\n",
    "cap.release()\n",
    "\n",
    "# close all the opened windows\n",
    "cv2.destroyAllWindows()"
   ]
  },
  {
   "cell_type": "code",
   "execution_count": null,
   "id": "91c88845",
   "metadata": {},
   "outputs": [],
   "source": []
  },
  {
   "cell_type": "code",
   "execution_count": null,
   "id": "7e7fe359",
   "metadata": {},
   "outputs": [],
   "source": []
  }
 ],
 "metadata": {
  "kernelspec": {
   "display_name": "Python 3 (ipykernel)",
   "language": "python",
   "name": "python3"
  },
  "language_info": {
   "codemirror_mode": {
    "name": "ipython",
    "version": 3
   },
   "file_extension": ".py",
   "mimetype": "text/x-python",
   "name": "python",
   "nbconvert_exporter": "python",
   "pygments_lexer": "ipython3",
   "version": "3.9.7"
  }
 },
 "nbformat": 4,
 "nbformat_minor": 5
}
