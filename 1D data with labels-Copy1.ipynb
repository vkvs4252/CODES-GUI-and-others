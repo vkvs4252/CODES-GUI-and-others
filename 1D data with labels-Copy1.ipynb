{
 "cells": [
  {
   "cell_type": "code",
   "execution_count": 1,
   "id": "bd97320f",
   "metadata": {},
   "outputs": [],
   "source": [
    "import cv2\n",
    "import mediapipe as mp\n",
    "import pandas as pd  \n",
    "import os\n",
    "import numpy as np \n",
    "from tqdm import tqdm"
   ]
  },
  {
   "cell_type": "code",
   "execution_count": 2,
   "id": "eec553f6",
   "metadata": {},
   "outputs": [],
   "source": [
    "load_path='E:/VA/10words'"
   ]
  },
  {
   "cell_type": "code",
   "execution_count": null,
   "id": "2432bd4b",
   "metadata": {},
   "outputs": [],
   "source": []
  },
  {
   "cell_type": "code",
   "execution_count": 3,
   "id": "13ab1e91",
   "metadata": {},
   "outputs": [],
   "source": [
    "def extract_keypoints(results):\n",
    "    #pose = np.array([[res.x, res.y, res.z, res.visibility] for res in results.pose_landmarks.landmark]).flatten() if results.pose_landmarks else np.zeros(33*4)\n",
    "    #face = np.array([[res.x, res.y, res.z] for res in results.face_landmarks.landmark]).flatten() if results.face_landmarks else np.zeros(468*3)\n",
    "    lh = np.array([[res.x, res.y, res.z] for res in results.left_hand_landmarks.landmark]).flatten() if results.left_hand_landmarks else np.zeros(21*3)\n",
    "    rh = np.array([[res.x, res.y, res.z] for res in results.right_hand_landmarks.landmark]).flatten() if results.right_hand_landmarks else np.zeros(21*3)\n",
    "    return np.concatenate([pose, face, lh, rh])"
   ]
  },
  {
   "cell_type": "code",
   "execution_count": null,
   "id": "63418bea",
   "metadata": {},
   "outputs": [],
   "source": [
    "\n",
    "img_array = cv2.imread(TRAIN_DIR)\n",
    "with mp_holistic.Holistic(\n",
    "    min_detection_confidence=0.5,\n",
    "    min_tracking_confidence=0.5) as holistic:            \n",
    "    image_height, image_width, _ = img_array.shape\n",
    "    # Convert the BGR image to RGB before processing.\n",
    "    results = holistic.process(cv2.cvtColor(img_array, cv2.COLOR_BGR2RGB))\n",
    "    img = np.zeros([image_height, image_width,3],dtype=np.uint8)\n",
    "    img.fill(255)\n",
    "    landmarks(img,results) # from function\n",
    "    cv2.imwrite(SAVE_DIR,img)\n"
   ]
  },
  {
   "cell_type": "code",
   "execution_count": null,
   "id": "7eb5d806",
   "metadata": {},
   "outputs": [],
   "source": [
    "from tqdm import tqdm\n",
    "\n",
    "TRAIN_DIR = 'D:/Agrima/animals_video'\n",
    "# SAVE_DIR = 'D:/Agrima/animals_npy'\n",
    "# IM_DIR = 'D:/Agrima/animals_IM'\n",
    "# TRAIN_DIR1 = 'D:\\Agrima\\animals_video'\n",
    "# SAVE_DIR1 = 'D:\\Agrima\\animals_npy'\n",
    "CATEGORIES = []\n",
    "train_dir = os.listdir(TRAIN_DIR)\n",
    "IMG_SIZE = 224\n",
    "for folder in train_dir:\n",
    "    CATEGORIES.append(folder)\n",
    "cat_len=len(CATEGORIES)\n",
    "    \n",
    "# for category in CATEGORIES:\n",
    "#     for img in tqdm(os.listdir(TRAIN_DIR)):\n",
    "#         try: \n",
    "#             os.makedirs(os.path.join(SAVE_DIR1, category, img))\n",
    "#         except:\n",
    "#             pass\n",
    "        \n",
    "'''Creating the training data'''\n",
    "# def create_train_data():\n",
    "with mp_holistic.Holistic(min_detection_confidence=0.5, min_tracking_confidence=0.5) as holistic:\n",
    "    for category in CATEGORIES:\n",
    "        path=TRAIN_DIR+\"/\"+category\n",
    "#         path2=SAVE_DIR+\"/\"+category\n",
    "#         path3=IM_DIR+\"/\"+category\n",
    "#         if not os.path.exists(path2): \n",
    "#             os.makedirs(path2) \n",
    "#         if not os.path.exists(path3): \n",
    "#             os.makedirs(path3) \n",
    "\n",
    "        for img in tqdm(os.listdir(path)):\n",
    "            path12=path2+\"/\"+str(img)\n",
    "            path13=path3+\"/\"+str(img)\n",
    "            if not os.path.exists(path12): \n",
    "                os.makedirs(path12)\n",
    "            if not os.path.exists(path13): \n",
    "                os.makedirs(path13)\n",
    "            img_array = cv2.VideoCapture((path+\"/\"+img))\n",
    "             # Read feed\n",
    "            i = 0\n",
    "            while(True):\n",
    "                ret,frame = img_array.read()\n",
    "                if ret:\n",
    "                    frame = cv2.resize(frame,(IMG_SIZE,IMG_SIZE),fx=0,fy=0, interpolation = cv2.INTER_CUBIC)\n",
    "                # Make detections\n",
    "                    image, results = mediapipe_detection(frame, holistic)\n",
    "                    draw_styled_landmarks(image, results)\n",
    "                    im_path = path13 +\"/\"+ str(i) + \".jpg\"\n",
    "                    cv2.imwrite(im_path, image)\n",
    "                # Draw landmarks\n",
    "                #draw_styled_landmarks(image, results)\n",
    "                    keypoints = extract_keypoints(results)\n",
    "                    npy_path = path12 +\"/\"+ str(i) \n",
    "                    np.save(npy_path, keypoints)\n",
    "                    i = i + 1\n",
    "                else:\n",
    "                    break\n",
    "\n",
    "\n",
    "img_array.release()\n",
    "cv2.destroyAllWindows()"
   ]
  }
 ],
 "metadata": {
  "kernelspec": {
   "display_name": "Python 3 (ipykernel)",
   "language": "python",
   "name": "python3"
  },
  "language_info": {
   "codemirror_mode": {
    "name": "ipython",
    "version": 3
   },
   "file_extension": ".py",
   "mimetype": "text/x-python",
   "name": "python",
   "nbconvert_exporter": "python",
   "pygments_lexer": "ipython3",
   "version": "3.9.7"
  }
 },
 "nbformat": 4,
 "nbformat_minor": 5
}
