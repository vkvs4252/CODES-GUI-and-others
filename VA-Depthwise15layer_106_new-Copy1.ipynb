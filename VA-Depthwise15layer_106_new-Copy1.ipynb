{
 "cells": [
  {
   "cell_type": "code",
   "execution_count": 1,
   "id": "d962aad3",
   "metadata": {},
   "outputs": [],
   "source": [
    "import keras\n",
    "import tensorflow as tf\n",
    "from tensorflow.keras.preprocessing.image import ImageDataGenerator\n",
    "from tensorflow.keras.layers import Input, Conv2D, MaxPool2D, Dropout, BatchNormalization, Dense, Flatten, LayerNormalization\n",
    "from tensorflow.keras.models import Sequential, Model\n",
    "from tensorflow.keras.optimizers import Adam\n",
    "import tensorflow.keras.applications as appl\n",
    "from sklearn.model_selection import train_test_split\n",
    "import os\n",
    "import cv2\n",
    "import time\n",
    "import random\n",
    "import numpy as np\n",
    "import matplotlib.pyplot as plt\n",
    "import seaborn as sns\n",
    "import sklearn.metrics as metrics\n",
    "from tqdm import tqdm\n",
    "from tensorflow.keras.utils import Sequence\n",
    "from keras import callbacks  \n",
    "from keras.models import load_model\n",
    "from keras.utils import np_utils"
   ]
  },
  {
   "cell_type": "code",
   "execution_count": 2,
   "id": "13774f1e",
   "metadata": {},
   "outputs": [],
   "source": [
    "load_path='E:/VA/onehandtwohand/128/106words_DSLR_FH/'"
   ]
  },
  {
   "cell_type": "code",
   "execution_count": 3,
   "id": "edaddf29",
   "metadata": {},
   "outputs": [],
   "source": [
    "CATEGORIES=np.load(load_path+'cat_106.npy', allow_pickle=True)"
   ]
  },
  {
   "cell_type": "code",
   "execution_count": 4,
   "id": "659cb729",
   "metadata": {},
   "outputs": [],
   "source": [
    "IMG_SIZE=128"
   ]
  },
  {
   "cell_type": "code",
   "execution_count": 5,
   "id": "12d7e2d6",
   "metadata": {},
   "outputs": [
    {
     "name": "stdout",
     "output_type": "stream",
     "text": [
      "106\n"
     ]
    }
   ],
   "source": [
    "cat_len=len(CATEGORIES)\n",
    "print(cat_len)"
   ]
  },
  {
   "cell_type": "markdown",
   "id": "cc104aa6",
   "metadata": {},
   "source": [
    "# Save combined data npy"
   ]
  },
  {
   "cell_type": "code",
   "execution_count": 7,
   "id": "d4dd8029",
   "metadata": {},
   "outputs": [],
   "source": [
    "# model\n",
    "\n",
    "# model_name1 = 'InceptionResNetV2'\n",
    "# model_name1 = '4layer'\n",
    "model_name1 = 'depthwise15_106words_dslr128'\n",
    "#model_name2 = 'VGG16'\n",
    "# model_name1 = 'DenseNet121'\n",
    "# model_name1 = 'InceptionV3'"
   ]
  },
  {
   "cell_type": "markdown",
   "id": "fa37bec1",
   "metadata": {},
   "source": [
    "Loading"
   ]
  },
  {
   "cell_type": "code",
   "execution_count": 6,
   "id": "0def0f5d",
   "metadata": {},
   "outputs": [],
   "source": [
    "X=np.load(load_path+'X_dslr.npy', allow_pickle=True)\n",
    "Y=np.load(load_path+'Y_dslr.npy', allow_pickle=True)"
   ]
  },
  {
   "cell_type": "code",
   "execution_count": 7,
   "id": "78a5018f",
   "metadata": {},
   "outputs": [
    {
     "data": {
      "text/plain": [
       "(43469, 128, 128, 3)"
      ]
     },
     "execution_count": 7,
     "metadata": {},
     "output_type": "execute_result"
    }
   ],
   "source": [
    "X.shape"
   ]
  },
  {
   "cell_type": "code",
   "execution_count": 8,
   "id": "742b5d81",
   "metadata": {},
   "outputs": [
    {
     "name": "stdout",
     "output_type": "stream",
     "text": [
      "[[[255 255 255]\n",
      "  [255 255 255]\n",
      "  [255 255 255]\n",
      "  ...\n",
      "  [255 255 255]\n",
      "  [255 255 255]\n",
      "  [255 255 255]]\n",
      "\n",
      " [[255 255 255]\n",
      "  [255 255 255]\n",
      "  [255 255 255]\n",
      "  ...\n",
      "  [255 255 255]\n",
      "  [255 255 255]\n",
      "  [255 255 255]]\n",
      "\n",
      " [[255 255 255]\n",
      "  [255 255 255]\n",
      "  [255 255 255]\n",
      "  ...\n",
      "  [255 255 255]\n",
      "  [255 255 255]\n",
      "  [255 255 255]]\n",
      "\n",
      " ...\n",
      "\n",
      " [[255 255 255]\n",
      "  [255 255 255]\n",
      "  [255 255 255]\n",
      "  ...\n",
      "  [255 255 255]\n",
      "  [255 255 255]\n",
      "  [255 255 255]]\n",
      "\n",
      " [[255 255 255]\n",
      "  [255 255 255]\n",
      "  [255 255 255]\n",
      "  ...\n",
      "  [255 255 255]\n",
      "  [255 255 255]\n",
      "  [255 255 255]]\n",
      "\n",
      " [[255 255 255]\n",
      "  [255 255 255]\n",
      "  [255 255 255]\n",
      "  ...\n",
      "  [255 255 255]\n",
      "  [255 255 255]\n",
      "  [255 255 255]]]\n"
     ]
    }
   ],
   "source": [
    "print(X[1])"
   ]
  },
  {
   "cell_type": "code",
   "execution_count": 9,
   "id": "881b8300",
   "metadata": {},
   "outputs": [
    {
     "data": {
      "text/plain": [
       "<matplotlib.image.AxesImage at 0x1ee20fcda90>"
      ]
     },
     "execution_count": 9,
     "metadata": {},
     "output_type": "execute_result"
    },
    {
     "data": {
      "image/png": "[encoded data removed]",
      "text/plain": [
       "<Figure size 640x480 with 1 Axes>"
      ]
     },
     "metadata": {},
     "output_type": "display_data"
    }
   ],
   "source": [
    "import matplotlib.pyplot as plt\n",
    "plt.imshow(X[1])"
   ]
  },
  {
   "cell_type": "code",
   "execution_count": 9,
   "id": "bac9e4e1",
   "metadata": {},
   "outputs": [],
   "source": [
    "X = X.astype('float32')\n",
    "X /= 255\n"
   ]
  },
  {
   "cell_type": "code",
   "execution_count": 10,
   "id": "89586ad1",
   "metadata": {},
   "outputs": [
    {
     "name": "stdout",
     "output_type": "stream",
     "text": [
      "Splitting\n",
      "pass\n"
     ]
    }
   ],
   "source": [
    "print('Splitting') \n",
    "X_train, X_test, y_train, y_test = train_test_split(X, Y, test_size = 0.3, random_state = cat_len)\n",
    "X_train, X_new, y_train, y_new = train_test_split(X_train, y_train, test_size = 0.2, random_state = cat_len)\n",
    "X_train = np.array(X_train)\n",
    "y_train = np.array(y_train)\n",
    "X_test = np.array(X_test)\n",
    "y_test = np.array(y_test)\n",
    "X_new = np.array(X_new)\n",
    "y_new = np.array(y_new)\n",
    "\n",
    "print(\"pass\")"
   ]
  },
  {
   "cell_type": "code",
   "execution_count": 11,
   "id": "f26320e2",
   "metadata": {},
   "outputs": [],
   "source": [
    "del X,Y"
   ]
  },
  {
   "cell_type": "code",
   "execution_count": 12,
   "id": "f75aadef",
   "metadata": {},
   "outputs": [
    {
     "name": "stdout",
     "output_type": "stream",
     "text": [
      "Image Data Augmentation\n",
      "done\n"
     ]
    }
   ],
   "source": [
    "print('Image Data Augmentation')\n",
    "from keras.preprocessing.image import ImageDataGenerator\n",
    "val_generator = ImageDataGenerator(rotation_range=0, zoom_range=0.2, width_shift_range=0.2,\n",
    "    height_shift_range=0.2, shear_range=0.2)\n",
    "#                                     , horizontal_flip=True, brightness_range=[0.6,1.3])\n",
    "val_generator.fit(X_train)\n",
    "val_generator.fit(X_new)\n",
    "val_generator.fit(X_test)\n",
    "\n",
    "print(\"done\")"
   ]
  },
  {
   "cell_type": "code",
   "execution_count": 13,
   "id": "48682243",
   "metadata": {},
   "outputs": [
    {
     "name": "stdout",
     "output_type": "stream",
     "text": [
      "Model: \"sequential\"\n",
      "_________________________________________________________________\n",
      " Layer (type)                Output Shape              Param #   \n",
      "=================================================================\n",
      " depthwise_conv2d (Depthwise  (None, 128, 128, 3)      30        \n",
      " Conv2D)                                                         \n",
      "                                                                 \n",
      " batch_normalization (BatchN  (None, 128, 128, 3)      12        \n",
      " ormalization)                                                   \n",
      "                                                                 \n",
      " depthwise_conv2d_1 (Depthwi  (None, 128, 128, 3)      30        \n",
      " seConv2D)                                                       \n",
      "                                                                 \n",
      " depthwise_conv2d_2 (Depthwi  (None, 128, 128, 3)      30        \n",
      " seConv2D)                                                       \n",
      "                                                                 \n",
      " batch_normalization_1 (Batc  (None, 128, 128, 3)      12        \n",
      " hNormalization)                                                 \n",
      "                                                                 \n",
      " max_pooling2d (MaxPooling2D  (None, 64, 64, 3)        0         \n",
      " )                                                               \n",
      "                                                                 \n",
      " depthwise_conv2d_3 (Depthwi  (None, 64, 64, 3)        30        \n",
      " seConv2D)                                                       \n",
      "                                                                 \n",
      " depthwise_conv2d_4 (Depthwi  (None, 64, 64, 3)        30        \n",
      " seConv2D)                                                       \n",
      "                                                                 \n",
      " batch_normalization_2 (Batc  (None, 64, 64, 3)        12        \n",
      " hNormalization)                                                 \n",
      "                                                                 \n",
      " depthwise_conv2d_5 (Depthwi  (None, 64, 64, 3)        30        \n",
      " seConv2D)                                                       \n",
      "                                                                 \n",
      " max_pooling2d_1 (MaxPooling  (None, 32, 32, 3)        0         \n",
      " 2D)                                                             \n",
      "                                                                 \n",
      " depthwise_conv2d_6 (Depthwi  (None, 32, 32, 3)        30        \n",
      " seConv2D)                                                       \n",
      "                                                                 \n",
      " batch_normalization_3 (Batc  (None, 32, 32, 3)        12        \n",
      " hNormalization)                                                 \n",
      "                                                                 \n",
      " depthwise_conv2d_7 (Depthwi  (None, 32, 32, 3)        30        \n",
      " seConv2D)                                                       \n",
      "                                                                 \n",
      " depthwise_conv2d_8 (Depthwi  (None, 32, 32, 3)        30        \n",
      " seConv2D)                                                       \n",
      "                                                                 \n",
      " batch_normalization_4 (Batc  (None, 32, 32, 3)        12        \n",
      " hNormalization)                                                 \n",
      "                                                                 \n",
      " max_pooling2d_2 (MaxPooling  (None, 16, 16, 3)        0         \n",
      " 2D)                                                             \n",
      "                                                                 \n",
      " depthwise_conv2d_9 (Depthwi  (None, 16, 16, 3)        30        \n",
      " seConv2D)                                                       \n",
      "                                                                 \n",
      " depthwise_conv2d_10 (Depthw  (None, 16, 16, 3)        30        \n",
      " iseConv2D)                                                      \n",
      "                                                                 \n",
      " depthwise_conv2d_11 (Depthw  (None, 16, 16, 3)        30        \n",
      " iseConv2D)                                                      \n",
      "                                                                 \n",
      " max_pooling2d_3 (MaxPooling  (None, 8, 8, 3)          0         \n",
      " 2D)                                                             \n",
      "                                                                 \n",
      " flatten (Flatten)           (None, 192)               0         \n",
      "                                                                 \n",
      " dense (Dense)               (None, 2048)              395264    \n",
      "                                                                 \n",
      " dropout (Dropout)           (None, 2048)              0         \n",
      "                                                                 \n",
      " dense_1 (Dense)             (None, 1024)              2098176   \n",
      "                                                                 \n",
      " dropout_1 (Dropout)         (None, 1024)              0         \n",
      "                                                                 \n",
      " dense_2 (Dense)             (None, 106)               108650    \n",
      "                                                                 \n",
      "=================================================================\n",
      "Total params: 2,602,510\n",
      "Trainable params: 2,602,480\n",
      "Non-trainable params: 30\n",
      "_________________________________________________________________\n"
     ]
    }
   ],
   "source": [
    "import tensorflow as tf\n",
    "\n",
    "# Define the model architecture\n",
    "model = tf.keras.Sequential([\n",
    "    # First layer: Depthwise Convolution\n",
    "    tf.keras.layers.DepthwiseConv2D(kernel_size=3, padding='same', activation='relu', input_shape=(128, 128, 3)),\n",
    "    tf.keras.layers.BatchNormalization(),\n",
    "#     tf.keras.layers.MaxPooling2D(pool_size=(2, 2)),\n",
    "    \n",
    "    # Second layer: Depthwise Convolution\n",
    "    tf.keras.layers.DepthwiseConv2D(kernel_size=3, padding='same', activation='relu'),\n",
    "#     tf.keras.layers.BatchNormalization(),\n",
    "#     tf.keras.layers.MaxPooling2D(pool_size=(2, 2)),\n",
    "    \n",
    "    # Third layer: Depthwise Convolution\n",
    "    tf.keras.layers.DepthwiseConv2D(kernel_size=3, padding='same', activation='relu'),\n",
    "    tf.keras.layers.BatchNormalization(),\n",
    "    tf.keras.layers.MaxPooling2D(pool_size=(2, 2)),\n",
    "    \n",
    "    # Fourth layer: Depthwise Convolution\n",
    "    tf.keras.layers.DepthwiseConv2D(kernel_size=3, padding='same', activation='relu'),\n",
    "#     tf.keras.layers.BatchNormalization(),\n",
    "#     tf.keras.layers.MaxPooling2D(pool_size=(2, 2)),\n",
    "    \n",
    "    # Fifth layer: Depthwise Convolution\n",
    "    tf.keras.layers.DepthwiseConv2D(kernel_size=3, padding='same', activation='relu'),\n",
    "    tf.keras.layers.BatchNormalization(),\n",
    "#     tf.keras.layers.MaxPooling2D(pool_size=(2, 2)),\n",
    "    \n",
    "    # Sixth layer: Depthwise Convolution\n",
    "    tf.keras.layers.DepthwiseConv2D(kernel_size=3, padding='same', activation='relu'),\n",
    "#     tf.keras.layers.BatchNormalization(),\n",
    "    tf.keras.layers.MaxPooling2D(pool_size=(2, 2)),\n",
    "    \n",
    "    # Seventh layer: Depthwise Convolution\n",
    "    tf.keras.layers.DepthwiseConv2D(kernel_size=3, padding='same', activation='relu'),\n",
    "    tf.keras.layers.BatchNormalization(),\n",
    "#     tf.keras.layers.MaxPooling2D(pool_size=(2, 2)),\n",
    "    \n",
    "    # Eighth layer: Depthwise Convolution\n",
    "    tf.keras.layers.DepthwiseConv2D(kernel_size=3, padding='same', activation='relu'),\n",
    "#     tf.keras.layers.BatchNormalization(),\n",
    "#     tf.keras.layers.MaxPooling2D(pool_size=(2, 2)),\n",
    "    \n",
    "    # Nineth layer: Depthwise Convolution\n",
    "    tf.keras.layers.DepthwiseConv2D(kernel_size=3, padding='same', activation='relu'),\n",
    "    tf.keras.layers.BatchNormalization(),\n",
    "    tf.keras.layers.MaxPooling2D(pool_size=(2, 2)),\n",
    "    \n",
    "    # 10th layer: Depthwise Convolution\n",
    "    tf.keras.layers.DepthwiseConv2D(kernel_size=3, padding='same', activation='relu'),\n",
    "#     tf.keras.layers.BatchNormalization(),\n",
    "#     tf.keras.layers.MaxPooling2D(pool_size=(2, 2)),\n",
    "    \n",
    "    # 11th layer: Depthwise Convolution\n",
    "    tf.keras.layers.DepthwiseConv2D(kernel_size=3, padding='same', activation='relu'),\n",
    "#     tf.keras.layers.BatchNormalization(),\n",
    "#     tf.keras.layers.MaxPooling2D(pool_size=(2, 2)),\n",
    "    \n",
    "    # 12th layer: Depthwise Convolution\n",
    "    tf.keras.layers.DepthwiseConv2D(kernel_size=3, padding='same', activation='relu'),\n",
    "#     tf.keras.layers.BatchNormalization(),\n",
    "    tf.keras.layers.MaxPooling2D(pool_size=(2, 2)),\n",
    "    \n",
    "   \n",
    "    # Flatten the output from convolutional layers\n",
    "    tf.keras.layers.Flatten(),\n",
    "    \n",
    "    # Add a dense layer to learn the final classification\n",
    "    tf.keras.layers.Dense(2048, activation='relu'),\n",
    "    tf.keras.layers.Dropout(0.5),\n",
    "    \n",
    "    tf.keras.layers.Dense(1024, activation='relu'),\n",
    "    tf.keras.layers.Dropout(0.5),\n",
    "    \n",
    "    # Output layer with softmax activation function for multi-class classification\n",
    "    tf.keras.layers.Dense(106, activation='softmax')\n",
    "])\n",
    "\n",
    "\n",
    "model.summary()"
   ]
  },
  {
   "cell_type": "code",
   "execution_count": 14,
   "id": "9a88ad52",
   "metadata": {},
   "outputs": [
    {
     "name": "stdout",
     "output_type": "stream",
     "text": [
      "Training model 1\n",
      "Epoch 1/1000\n",
      "244/244 [==============================] - 19s 67ms/step - loss: 4.2798 - accuracy: 0.0687 - val_loss: 4.5824 - val_accuracy: 0.0162\n",
      "Epoch 2/1000\n",
      "244/244 [==============================] - 15s 63ms/step - loss: 3.2738 - accuracy: 0.1929 - val_loss: 4.0600 - val_accuracy: 0.1097\n",
      "Epoch 3/1000\n",
      "244/244 [==============================] - 15s 63ms/step - loss: 2.8009 - accuracy: 0.2710 - val_loss: 2.5566 - val_accuracy: 0.3606\n",
      "Epoch 4/1000\n",
      "244/244 [==============================] - 15s 63ms/step - loss: 2.5258 - accuracy: 0.3212 - val_loss: 2.2140 - val_accuracy: 0.4053\n",
      "Epoch 5/1000\n",
      "244/244 [==============================] - 15s 63ms/step - loss: 2.3198 - accuracy: 0.3626 - val_loss: 2.0034 - val_accuracy: 0.4556\n",
      "Epoch 6/1000\n",
      "244/244 [==============================] - 15s 63ms/step - loss: 2.1278 - accuracy: 0.4083 - val_loss: 1.8391 - val_accuracy: 0.4967\n",
      "Epoch 7/1000\n",
      "244/244 [==============================] - 15s 63ms/step - loss: 1.9508 - accuracy: 0.4470 - val_loss: 1.6726 - val_accuracy: 0.5404\n",
      "Epoch 8/1000\n",
      "244/244 [==============================] - 15s 63ms/step - loss: 1.7851 - accuracy: 0.4912 - val_loss: 1.5009 - val_accuracy: 0.5877\n",
      "Epoch 9/1000\n",
      "244/244 [==============================] - 15s 63ms/step - loss: 1.6161 - accuracy: 0.5302 - val_loss: 1.3299 - val_accuracy: 0.6348\n",
      "Epoch 10/1000\n",
      "244/244 [==============================] - 15s 63ms/step - loss: 1.4702 - accuracy: 0.5681 - val_loss: 1.1991 - val_accuracy: 0.6654\n",
      "Epoch 11/1000\n",
      "244/244 [==============================] - 15s 63ms/step - loss: 1.3343 - accuracy: 0.6041 - val_loss: 1.0469 - val_accuracy: 0.7075\n",
      "Epoch 12/1000\n",
      "244/244 [==============================] - 15s 63ms/step - loss: 1.2184 - accuracy: 0.6340 - val_loss: 0.9558 - val_accuracy: 0.7350\n",
      "Epoch 13/1000\n",
      "244/244 [==============================] - 15s 63ms/step - loss: 1.1106 - accuracy: 0.6621 - val_loss: 0.8653 - val_accuracy: 0.7568\n",
      "Epoch 14/1000\n",
      "244/244 [==============================] - 15s 63ms/step - loss: 1.0275 - accuracy: 0.6875 - val_loss: 0.7767 - val_accuracy: 0.7789\n",
      "Epoch 15/1000\n",
      "244/244 [==============================] - 15s 63ms/step - loss: 0.9423 - accuracy: 0.7105 - val_loss: 0.7073 - val_accuracy: 0.7989\n",
      "Epoch 16/1000\n",
      "244/244 [==============================] - 15s 63ms/step - loss: 0.8738 - accuracy: 0.7328 - val_loss: 0.6530 - val_accuracy: 0.8073\n",
      "Epoch 17/1000\n",
      "244/244 [==============================] - 15s 63ms/step - loss: 0.8136 - accuracy: 0.7460 - val_loss: 0.6069 - val_accuracy: 0.8246\n",
      "Epoch 18/1000\n",
      "244/244 [==============================] - 15s 63ms/step - loss: 0.7494 - accuracy: 0.7655 - val_loss: 0.5467 - val_accuracy: 0.8365\n",
      "Epoch 19/1000\n",
      "244/244 [==============================] - 15s 63ms/step - loss: 0.7061 - accuracy: 0.7767 - val_loss: 0.5010 - val_accuracy: 0.8565\n",
      "Epoch 20/1000\n",
      "244/244 [==============================] - 15s 63ms/step - loss: 0.6557 - accuracy: 0.7943 - val_loss: 0.4648 - val_accuracy: 0.8649\n",
      "Epoch 21/1000\n",
      "244/244 [==============================] - 15s 63ms/step - loss: 0.6105 - accuracy: 0.8072 - val_loss: 0.4322 - val_accuracy: 0.8739\n",
      "Epoch 22/1000\n",
      "244/244 [==============================] - 15s 63ms/step - loss: 0.5823 - accuracy: 0.8147 - val_loss: 0.4099 - val_accuracy: 0.8803\n",
      "Epoch 23/1000\n",
      "244/244 [==============================] - 15s 63ms/step - loss: 0.5429 - accuracy: 0.8267 - val_loss: 0.3828 - val_accuracy: 0.8857\n",
      "Epoch 24/1000\n",
      "244/244 [==============================] - 15s 63ms/step - loss: 0.5146 - accuracy: 0.8345 - val_loss: 0.3616 - val_accuracy: 0.8924\n",
      "Epoch 25/1000\n",
      "244/244 [==============================] - 15s 63ms/step - loss: 0.4857 - accuracy: 0.8431 - val_loss: 0.3370 - val_accuracy: 0.9010\n",
      "Epoch 26/1000\n",
      "244/244 [==============================] - 15s 63ms/step - loss: 0.4641 - accuracy: 0.8458 - val_loss: 0.3111 - val_accuracy: 0.9079\n",
      "Epoch 27/1000\n",
      "244/244 [==============================] - 15s 63ms/step - loss: 0.4360 - accuracy: 0.8579 - val_loss: 0.2944 - val_accuracy: 0.9117\n",
      "Epoch 28/1000\n",
      "244/244 [==============================] - 15s 63ms/step - loss: 0.4145 - accuracy: 0.8651 - val_loss: 0.2765 - val_accuracy: 0.9183\n",
      "Epoch 29/1000\n",
      "244/244 [==============================] - 15s 63ms/step - loss: 0.3899 - accuracy: 0.8715 - val_loss: 0.2666 - val_accuracy: 0.9176\n",
      "Epoch 30/1000\n",
      "244/244 [==============================] - 15s 63ms/step - loss: 0.3736 - accuracy: 0.8793 - val_loss: 0.2569 - val_accuracy: 0.9206\n",
      "Epoch 31/1000\n",
      "244/244 [==============================] - 15s 63ms/step - loss: 0.3592 - accuracy: 0.8814 - val_loss: 0.2465 - val_accuracy: 0.9239\n",
      "Epoch 32/1000\n",
      "244/244 [==============================] - 15s 63ms/step - loss: 0.3410 - accuracy: 0.8869 - val_loss: 0.2286 - val_accuracy: 0.9301\n",
      "Epoch 33/1000\n",
      "244/244 [==============================] - 15s 63ms/step - loss: 0.3225 - accuracy: 0.8929 - val_loss: 0.2142 - val_accuracy: 0.9352\n",
      "Epoch 34/1000\n",
      "244/244 [==============================] - 15s 63ms/step - loss: 0.3025 - accuracy: 0.8993 - val_loss: 0.2079 - val_accuracy: 0.9366\n",
      "Epoch 35/1000\n",
      "244/244 [==============================] - 15s 63ms/step - loss: 0.3003 - accuracy: 0.9006 - val_loss: 0.2019 - val_accuracy: 0.9395\n",
      "Epoch 36/1000\n",
      "244/244 [==============================] - 15s 63ms/step - loss: 0.2848 - accuracy: 0.9053 - val_loss: 0.1904 - val_accuracy: 0.9443\n",
      "Epoch 37/1000\n",
      "244/244 [==============================] - 15s 64ms/step - loss: 0.2758 - accuracy: 0.9102 - val_loss: 0.1830 - val_accuracy: 0.9455\n",
      "Epoch 38/1000\n",
      "244/244 [==============================] - 15s 63ms/step - loss: 0.2600 - accuracy: 0.9117 - val_loss: 0.1779 - val_accuracy: 0.9455\n",
      "Epoch 39/1000\n",
      "244/244 [==============================] - 16s 64ms/step - loss: 0.2577 - accuracy: 0.9129 - val_loss: 0.1763 - val_accuracy: 0.9448\n",
      "Epoch 40/1000\n",
      "244/244 [==============================] - 15s 63ms/step - loss: 0.2369 - accuracy: 0.9207 - val_loss: 0.1686 - val_accuracy: 0.9503\n",
      "Epoch 41/1000\n",
      "244/244 [==============================] - 16s 64ms/step - loss: 0.2337 - accuracy: 0.9226 - val_loss: 0.1598 - val_accuracy: 0.9523\n",
      "Epoch 42/1000\n",
      "244/244 [==============================] - 15s 63ms/step - loss: 0.2234 - accuracy: 0.9264 - val_loss: 0.1530 - val_accuracy: 0.9536\n",
      "Epoch 43/1000\n",
      "244/244 [==============================] - 16s 64ms/step - loss: 0.2153 - accuracy: 0.9285 - val_loss: 0.1548 - val_accuracy: 0.9525\n",
      "Epoch 44/1000\n",
      "244/244 [==============================] - 16s 64ms/step - loss: 0.2089 - accuracy: 0.9291 - val_loss: 0.1475 - val_accuracy: 0.9555\n",
      "Epoch 45/1000\n",
      "244/244 [==============================] - 16s 64ms/step - loss: 0.2028 - accuracy: 0.9333 - val_loss: 0.1454 - val_accuracy: 0.9552\n",
      "Epoch 46/1000\n",
      "244/244 [==============================] - 15s 64ms/step - loss: 0.1935 - accuracy: 0.9352 - val_loss: 0.1406 - val_accuracy: 0.9576\n",
      "Epoch 47/1000\n",
      "244/244 [==============================] - 15s 64ms/step - loss: 0.1898 - accuracy: 0.9357 - val_loss: 0.1353 - val_accuracy: 0.9581\n",
      "Epoch 48/1000\n",
      "244/244 [==============================] - 16s 64ms/step - loss: 0.1853 - accuracy: 0.9358 - val_loss: 0.1357 - val_accuracy: 0.9591\n",
      "Epoch 49/1000\n",
      "244/244 [==============================] - 16s 64ms/step - loss: 0.1739 - accuracy: 0.9408 - val_loss: 0.1296 - val_accuracy: 0.9608\n",
      "Epoch 50/1000\n",
      "244/244 [==============================] - 15s 63ms/step - loss: 0.1689 - accuracy: 0.9418 - val_loss: 0.1288 - val_accuracy: 0.9609\n",
      "Epoch 51/1000\n",
      "244/244 [==============================] - 16s 64ms/step - loss: 0.1669 - accuracy: 0.9447 - val_loss: 0.1225 - val_accuracy: 0.9640\n",
      "Epoch 52/1000\n",
      "244/244 [==============================] - 15s 63ms/step - loss: 0.1615 - accuracy: 0.9457 - val_loss: 0.1225 - val_accuracy: 0.9642\n",
      "Epoch 53/1000\n",
      "244/244 [==============================] - 16s 64ms/step - loss: 0.1530 - accuracy: 0.9479 - val_loss: 0.1161 - val_accuracy: 0.9654\n",
      "Epoch 54/1000\n",
      "244/244 [==============================] - 16s 64ms/step - loss: 0.1531 - accuracy: 0.9472 - val_loss: 0.1126 - val_accuracy: 0.9660\n",
      "Epoch 55/1000\n",
      "244/244 [==============================] - 15s 63ms/step - loss: 0.1428 - accuracy: 0.9518 - val_loss: 0.1195 - val_accuracy: 0.9645\n",
      "Epoch 56/1000\n",
      "244/244 [==============================] - 16s 64ms/step - loss: 0.1391 - accuracy: 0.9526 - val_loss: 0.1120 - val_accuracy: 0.9662\n"
     ]
    },
    {
     "name": "stdout",
     "output_type": "stream",
     "text": [
      "Epoch 57/1000\n",
      "244/244 [==============================] - 15s 63ms/step - loss: 0.1428 - accuracy: 0.9499 - val_loss: 0.1089 - val_accuracy: 0.9645\n",
      "Epoch 58/1000\n",
      "244/244 [==============================] - 15s 63ms/step - loss: 0.1365 - accuracy: 0.9542 - val_loss: 0.1097 - val_accuracy: 0.9676\n",
      "Epoch 59/1000\n",
      "244/244 [==============================] - 15s 63ms/step - loss: 0.1288 - accuracy: 0.9565 - val_loss: 0.1091 - val_accuracy: 0.9668\n",
      "Epoch 60/1000\n",
      "244/244 [==============================] - 15s 63ms/step - loss: 0.1301 - accuracy: 0.9559 - val_loss: 0.1082 - val_accuracy: 0.9663\n",
      "Epoch 61/1000\n",
      "244/244 [==============================] - 15s 63ms/step - loss: 0.1259 - accuracy: 0.9568 - val_loss: 0.1075 - val_accuracy: 0.9669\n",
      "Epoch 62/1000\n",
      "244/244 [==============================] - 15s 63ms/step - loss: 0.1189 - accuracy: 0.9585 - val_loss: 0.1007 - val_accuracy: 0.9693\n",
      "Epoch 63/1000\n",
      "244/244 [==============================] - 15s 63ms/step - loss: 0.1190 - accuracy: 0.9596 - val_loss: 0.0988 - val_accuracy: 0.9702\n",
      "Epoch 64/1000\n",
      "244/244 [==============================] - 15s 63ms/step - loss: 0.1164 - accuracy: 0.9589 - val_loss: 0.1009 - val_accuracy: 0.9686\n",
      "Epoch 65/1000\n",
      "244/244 [==============================] - 15s 63ms/step - loss: 0.1070 - accuracy: 0.9635 - val_loss: 0.0947 - val_accuracy: 0.9712\n",
      "Epoch 66/1000\n",
      "244/244 [==============================] - 15s 63ms/step - loss: 0.1069 - accuracy: 0.9645 - val_loss: 0.1217 - val_accuracy: 0.9631\n",
      "Epoch 67/1000\n",
      "244/244 [==============================] - 15s 63ms/step - loss: 0.1068 - accuracy: 0.9620 - val_loss: 0.0973 - val_accuracy: 0.9713\n",
      "Epoch 68/1000\n",
      "244/244 [==============================] - 15s 63ms/step - loss: 0.1043 - accuracy: 0.9641 - val_loss: 0.1130 - val_accuracy: 0.9660\n",
      "Epoch 69/1000\n",
      "244/244 [==============================] - 15s 63ms/step - loss: 0.0993 - accuracy: 0.9656 - val_loss: 0.0922 - val_accuracy: 0.9720\n",
      "Epoch 70/1000\n",
      "244/244 [==============================] - 15s 63ms/step - loss: 0.0993 - accuracy: 0.9666 - val_loss: 0.0990 - val_accuracy: 0.9706\n",
      "Epoch 71/1000\n",
      "244/244 [==============================] - 15s 63ms/step - loss: 0.1010 - accuracy: 0.9652 - val_loss: 0.0927 - val_accuracy: 0.9733\n",
      "Epoch 72/1000\n",
      "244/244 [==============================] - 15s 63ms/step - loss: 0.1010 - accuracy: 0.9664 - val_loss: 0.0925 - val_accuracy: 0.9729\n",
      "Epoch 73/1000\n",
      "244/244 [==============================] - 15s 63ms/step - loss: 0.0972 - accuracy: 0.9671 - val_loss: 0.0900 - val_accuracy: 0.9744\n",
      "Epoch 74/1000\n",
      "244/244 [==============================] - 15s 63ms/step - loss: 0.0946 - accuracy: 0.9679 - val_loss: 0.0908 - val_accuracy: 0.9742\n",
      "Epoch 75/1000\n",
      "244/244 [==============================] - 15s 63ms/step - loss: 0.0888 - accuracy: 0.9708 - val_loss: 0.0899 - val_accuracy: 0.9732\n",
      "Epoch 76/1000\n",
      "244/244 [==============================] - 15s 63ms/step - loss: 0.0852 - accuracy: 0.9701 - val_loss: 0.1194 - val_accuracy: 0.9666\n",
      "Epoch 77/1000\n",
      "244/244 [==============================] - 15s 63ms/step - loss: 0.0884 - accuracy: 0.9695 - val_loss: 0.4894 - val_accuracy: 0.8508\n",
      "Epoch 78/1000\n",
      "244/244 [==============================] - 15s 63ms/step - loss: 0.0843 - accuracy: 0.9712 - val_loss: 0.0909 - val_accuracy: 0.9740\n",
      "Epoch 79/1000\n",
      "244/244 [==============================] - 16s 64ms/step - loss: 0.0815 - accuracy: 0.9722 - val_loss: 0.0897 - val_accuracy: 0.9742\n",
      "Epoch 80/1000\n",
      "244/244 [==============================] - 16s 64ms/step - loss: 0.0783 - accuracy: 0.9733 - val_loss: 0.0915 - val_accuracy: 0.9737\n",
      "Epoch 81/1000\n",
      "244/244 [==============================] - 16s 64ms/step - loss: 0.0817 - accuracy: 0.9721 - val_loss: 0.0838 - val_accuracy: 0.9769\n",
      "Epoch 82/1000\n",
      "244/244 [==============================] - 15s 63ms/step - loss: 0.0801 - accuracy: 0.9738 - val_loss: 2.1122 - val_accuracy: 0.4739\n",
      "Epoch 83/1000\n",
      "244/244 [==============================] - 15s 63ms/step - loss: 0.0798 - accuracy: 0.9713 - val_loss: 0.0852 - val_accuracy: 0.9758\n",
      "Epoch 84/1000\n",
      "244/244 [==============================] - 15s 63ms/step - loss: 0.0682 - accuracy: 0.9761 - val_loss: 0.0824 - val_accuracy: 0.9768\n",
      "Epoch 85/1000\n",
      "244/244 [==============================] - 15s 63ms/step - loss: 0.0763 - accuracy: 0.9737 - val_loss: 0.1680 - val_accuracy: 0.9504\n",
      "Epoch 86/1000\n",
      "244/244 [==============================] - 15s 63ms/step - loss: 0.0728 - accuracy: 0.9743 - val_loss: 0.0837 - val_accuracy: 0.9758\n",
      "Epoch 87/1000\n",
      "244/244 [==============================] - 15s 63ms/step - loss: 0.0730 - accuracy: 0.9746 - val_loss: 0.0818 - val_accuracy: 0.9769\n",
      "Epoch 88/1000\n",
      "244/244 [==============================] - 15s 63ms/step - loss: 0.0706 - accuracy: 0.9756 - val_loss: 0.0828 - val_accuracy: 0.9752\n",
      "Epoch 89/1000\n",
      "244/244 [==============================] - 15s 63ms/step - loss: 0.0686 - accuracy: 0.9765 - val_loss: 0.0751 - val_accuracy: 0.9787\n",
      "Epoch 90/1000\n",
      "244/244 [==============================] - 15s 63ms/step - loss: 0.0667 - accuracy: 0.9772 - val_loss: 0.0816 - val_accuracy: 0.9784\n",
      "Epoch 91/1000\n",
      "244/244 [==============================] - 15s 63ms/step - loss: 0.0687 - accuracy: 0.9764 - val_loss: 0.2330 - val_accuracy: 0.9304\n",
      "Epoch 92/1000\n",
      "244/244 [==============================] - 15s 63ms/step - loss: 0.0656 - accuracy: 0.9770 - val_loss: 0.0803 - val_accuracy: 0.9778\n",
      "Epoch 93/1000\n",
      "244/244 [==============================] - 15s 63ms/step - loss: 0.0659 - accuracy: 0.9777 - val_loss: 0.0814 - val_accuracy: 0.9765\n",
      "Epoch 94/1000\n",
      "244/244 [==============================] - 15s 63ms/step - loss: 0.0641 - accuracy: 0.9775 - val_loss: 0.0762 - val_accuracy: 0.9787\n"
     ]
    }
   ],
   "source": [
    "print('Training model 1')\n",
    "opt = Adam(learning_rate=0.0001)\n",
    "earlystopping = callbacks.EarlyStopping(monitor=\"val_loss\", patience = 5, restore_best_weights = True)\n",
    "# Compile the model with categorical crossentropy loss function and Adam optimizer\n",
    "model.compile(loss='categorical_crossentropy', optimizer=opt, metrics=['accuracy'])\n",
    "# model1.summary()\n",
    "\n",
    "history_const = model.fit(X_train, y_train,batch_size=100, epochs = 1000, validation_data=(X_test,y_test),\n",
    "                   callbacks= [earlystopping])\n"
   ]
  },
  {
   "cell_type": "code",
   "execution_count": 16,
   "id": "7d5b72d6",
   "metadata": {},
   "outputs": [
    {
     "name": "stdout",
     "output_type": "stream",
     "text": [
      "Saving\n",
      "saved\n"
     ]
    }
   ],
   "source": [
    "print('Saving')\n",
    "np.save(load_path+model_name1+'_history.npy',history_const.history)\n",
    "model.save(load_path+model_name1+'_model.h5') \n",
    "print(\"saved\")"
   ]
  },
  {
   "cell_type": "code",
   "execution_count": 7,
   "id": "f40f84c9",
   "metadata": {},
   "outputs": [
    {
     "name": "stdout",
     "output_type": "stream",
     "text": [
      "loaded\n"
     ]
    }
   ],
   "source": [
    "# #load saved history\n",
    "history_const=np.load(load_path+model_name1+'_history.npy',allow_pickle='TRUE').item()\n",
    "\n",
    "# #load saved model\n",
    "model1=load_model(load_path+model_name1+'_model.h5')\n",
    "\n",
    "print(\"loaded\")"
   ]
  },
  {
   "cell_type": "code",
   "execution_count": 14,
   "id": "caf213f3",
   "metadata": {},
   "outputs": [
    {
     "name": "stdout",
     "output_type": "stream",
     "text": [
      "Plots\n"
     ]
    },
    {
     "data": {
      "image/png": "[encoded data removed]",
      "text/plain": [
       "<Figure size 432x288 with 1 Axes>"
      ]
     },
     "metadata": {
      "needs_background": "light"
     },
     "output_type": "display_data"
    },
    {
     "data": {
      "image/png": "[encoded data removed]",
      "text/plain": [
       "<Figure size 432x288 with 1 Axes>"
      ]
     },
     "metadata": {
      "needs_background": "light"
     },
     "output_type": "display_data"
    }
   ],
   "source": [
    "print('Plots')\n",
    "plt.plot(history_const.history['loss'])\n",
    "plt.plot(history_const.history['val_loss'])\n",
    "plt.title('model loss')\n",
    "plt.ylabel('loss')\n",
    "plt.xlabel('epoch')\n",
    "plt.legend(['train', 'val'], loc='upper left')\n",
    "# plt.savefig('F:/VA/onehandtwohand/26words_DSLR_results/'+model_name1+'_loss.png')\n",
    "plt.savefig(load_path+model_name1+'_loss.png')\n",
    "plt.show()\n",
    "plt.plot(history_const.history['accuracy'])\n",
    "plt.plot(history_const.history['val_accuracy'])\n",
    "plt.title('model accuracy')\n",
    "plt.ylabel('accuracy')\n",
    "\n",
    "plt.xlabel('epoch')\n",
    "plt.legend(['train', 'val'], loc='upper left')\n",
    "plt.savefig(load_path+model_name1+'_accuracy.png')\n",
    "plt.show()"
   ]
  },
  {
   "cell_type": "code",
   "execution_count": null,
   "id": "4006fd26",
   "metadata": {},
   "outputs": [],
   "source": [
    "print('Confusion matrix')\n",
    "Y_pred = model1.predict(X_new)\n",
    "y_pred = np.argmax(Y_pred, axis=1)\n",
    "y_test1 = np.argmax(y_new, axis=1)\n",
    "\n",
    "cm=metrics.confusion_matrix(y_test1, y_pred)\n",
    "\n",
    "cm = cm.astype('float') / cm.sum(axis=1)[:, np.newaxis]\n",
    "a4_dims = (200, 100)\n",
    "fig,ax= plt.subplots(figsize=a4_dims)\n",
    "sns.heatmap(cm, annot=True, fmt=\".2f\", ax=ax,  linewidth=.5);  \n",
    "ax.set_xlabel('Predicted labels');ax.set_ylabel('True labels'); \n",
    "ax.set_title('Confusion Matrix'); \n",
    "ax.set_xticklabels(CATEGORIES)\n",
    "ax.set_yticklabels(CATEGORIES)\n",
    "plt.xlabel('Predicted')\n",
    "plt.ylabel('True')\n",
    "plt.setp(ax.get_xticklabels(), rotation=90, horizontalalignment='right')\n",
    "plt.setp(ax.get_yticklabels(), rotation=0, horizontalalignment='right')\n",
    "plt.savefig(load_path+model_name1+'_cm.png',bbox_inches='tight')\n",
    "plt.show()\n"
   ]
  },
  {
   "cell_type": "code",
   "execution_count": null,
   "id": "c57902f0",
   "metadata": {},
   "outputs": [],
   "source": [
    "#PLot fractional incorrect misclassifications\n",
    "\n",
    "incorr_fraction = 1 - np.diag(cm) / np.sum(cm, axis=1)\n",
    "\n",
    "fig, ax = plt.subplots(figsize=(12,8))\n",
    "plt.bar(np.arange(cat_len), incorr_fraction)\n",
    "plt.xlabel('True Label')\n",
    "plt.ylabel('Fraction of incorrect predictions')\n",
    "plt.xticks(np.arange(cat_len), CATEGORIES)\n",
    "plt.savefig(load_path+model_name1+'_incorrect_percentage.png',bbox_inches='tight')\n",
    "plt.show()"
   ]
  },
  {
   "cell_type": "code",
   "execution_count": null,
   "id": "c596ec0b",
   "metadata": {},
   "outputs": [],
   "source": [
    "#CHECK RANDOM IMAGES FROM TESTED DATA WHETHER RIGHT OR WRONG\n",
    "\n",
    "i = random.randint(1,cat_len)\n",
    "plt.imshow(X_new[i,:,:,2]) \n",
    "print(\"Predicted Label: \", CATEGORIES[int(y_pred[i])])\n",
    "print(\"True Label: \", CATEGORIES[int(y_test1[i])])"
   ]
  },
  {
   "cell_type": "code",
   "execution_count": null,
   "id": "13fc757b",
   "metadata": {},
   "outputs": [],
   "source": []
  },
  {
   "cell_type": "markdown",
   "id": "794a50d2",
   "metadata": {},
   "source": [
    "# Colourful mediapipe testing with VA_create_3.0"
   ]
  },
  {
   "cell_type": "code",
   "execution_count": 8,
   "id": "f40106c2",
   "metadata": {},
   "outputs": [],
   "source": [
    "import cv2\n",
    "import mediapipe as mp\n",
    "mp_drawing = mp.solutions.drawing_utils\n",
    "mp_drawing_styles = mp.solutions.drawing_styles\n",
    "mp_holistic = mp.solutions.holistic # Holistic model\n",
    "mp_drawing = mp.solutions.drawing_utils # Drawing utilities\n",
    "\n",
    "def mediapipe_detection(image, model):\n",
    "    image = cv2.cvtColor(image, cv2.COLOR_BGR2RGB) # COLOR CONVERSION BGR 2 RGB\n",
    "    image.flags.writeable = False                  # Image is no longer writeable\n",
    "    results = model.process(image)                 # Make prediction\n",
    "    image.flags.writeable = True                   # Image is now writeable \n",
    "    image = cv2.cvtColor(image, cv2.COLOR_RGB2BGR) # COLOR COVERSION RGB 2 BGR\n",
    "    return image, results\n",
    "    \n",
    "def draw_landmarks(image, results):   \n",
    "    #face\n",
    "    mp_drawing.draw_landmarks(\n",
    "        image,\n",
    "        results.face_landmarks,\n",
    "        mp_holistic.FACEMESH_CONTOURS,\n",
    "        landmark_drawing_spec=None,\n",
    "        connection_drawing_spec=mp_drawing_styles\n",
    "        .get_default_face_mesh_contours_style())\n",
    "#     #pose\n",
    "#     mp_drawing.draw_landmarks(\n",
    "#         image,\n",
    "#         results.pose_landmarks,\n",
    "#         mp_holistic.POSE_CONNECTIONS,\n",
    "#         landmark_drawing_spec=mp_drawing_styles\n",
    "#         .get_default_pose_landmarks_style())\n",
    "    \n",
    "    #left hand\n",
    "    mp_drawing.draw_landmarks(\n",
    "        image,\n",
    "        results.left_hand_landmarks,\n",
    "        mp_holistic.HAND_CONNECTIONS,\n",
    "#         landmark_drawing_spec=None,\n",
    "            mp_drawing_styles.get_default_hand_landmarks_style(),\n",
    "            mp_drawing_styles.get_default_hand_connections_style())\n",
    "    # right hand\n",
    "    mp_drawing.draw_landmarks(\n",
    "        image,\n",
    "        results.right_hand_landmarks,\n",
    "        mp_holistic.HAND_CONNECTIONS,\n",
    "#         landmark_drawing_spec=None,\n",
    "            mp_drawing_styles.get_default_hand_landmarks_style(),\n",
    "            mp_drawing_styles.get_default_hand_connections_style())"
   ]
  },
  {
   "cell_type": "code",
   "execution_count": 9,
   "id": "3a1bc8fa",
   "metadata": {},
   "outputs": [],
   "source": [
    "## For veryyyyyyyy beautiful webcam input:\n",
    "\n",
    "cap = cv2.VideoCapture(0)\n",
    "org = (20, 20)  \n",
    "org1 = (310, 20) \n",
    "fontScale = 0.65  \n",
    "font = cv2.FONT_HERSHEY_SIMPLEX\n",
    "# Blue color in BGR\n",
    "color = (130, 0, 0)  \n",
    "# Line thickness of 2 px\n",
    "thickness = 1 \n",
    "thickness1 = -1\n",
    "start_point = (0,0)\n",
    "end_point = (480,30)\n",
    "color1 = (255, 255, 255)  \n",
    "cls='R'\n",
    "with mp_holistic.Holistic(min_detection_confidence=0.5,min_tracking_confidence=0.5) as holistic:\n",
    "      while cap.isOpened():\n",
    "        #image from feeder\n",
    "        r, img_array = cap.read()\n",
    "        img_array = cv2.flip(img_array, 1)\n",
    "        #webcam\n",
    "        img_array = img_array[:, 80:560, :]\n",
    "        #dslr\n",
    "#         img_array = cv2.resize(img_array[:, 224:800, :],(480,480))\n",
    "        \n",
    "        image, results = mediapipe_detection(img_array, holistic)\n",
    "        draw_landmarks(image, results)\n",
    "        if not (results.left_hand_landmarks or results.right_hand_landmarks):\n",
    "            continue\n",
    "\n",
    "        # white background\n",
    "        img = np.zeros([480,480,3],dtype=np.uint8)\n",
    "        img.fill(255) \n",
    "        draw_landmarks(img, results)\n",
    "\n",
    "        # for prediction\n",
    "        IMG_SIZE=128\n",
    "        img = cv2.resize(img, (IMG_SIZE, IMG_SIZE))\n",
    "        X = np.array(img).reshape(-1, IMG_SIZE, IMG_SIZE, 3)\n",
    "        X = X.astype('float32')\n",
    "        X /= 255\n",
    "        X = np.array(X)\n",
    "        Y = model1.predict(X,verbose=0)\n",
    "\n",
    "        if np.max(Y)>0.2:\n",
    "            # for display\n",
    "            image = cv2.rectangle(image, start_point, end_point, color1, thickness1)\n",
    "            image = cv2.rectangle(image, (0,30), (480,30), color, 2)\n",
    "            image = cv2.putText(image,\"Prediction: \"+ CATEGORIES[np.argmax(Y)], org, font, \n",
    "                   fontScale, color, thickness, cv2.LINE_AA)\n",
    "            image = cv2.putText(image,\"Accuracy: \"+ \"%.2f\" % np.max(Y), org1, font, \n",
    "                   fontScale, color, thickness, cv2.LINE_AA)\n",
    "#             if CATEGORIES[np.argmax(Y)]==cls:\n",
    "            if np.max(Y)>0.8:\n",
    "                cv2.imwrite(load_path+'/99.79_misc_rajesh/mp_'+\n",
    "                            CATEGORIES[np.argmax(Y)]+'_'+str(np.max(Y))+'.jpg',image)\n",
    "                cv2.imwrite(load_path+'/99.79_misc_rajesh/ori_'+\n",
    "                            CATEGORIES[np.argmax(Y)]+'_'+str(np.max(Y))+'.jpg',img_array)\n",
    "\n",
    "\n",
    "        cv2.imshow('Realtime testing', image)\n",
    "\n",
    "        if cv2.waitKey(10) & 0xFF == ord('q'):\n",
    "                break\n",
    "# close the camera\n",
    "cap.release()\n",
    "\n",
    "# close all the opened windows\n",
    "cv2.destroyAllWindows()"
   ]
  },
  {
   "cell_type": "code",
   "execution_count": null,
   "id": "91c88845",
   "metadata": {},
   "outputs": [],
   "source": []
  },
  {
   "cell_type": "code",
   "execution_count": null,
   "id": "4b8a99bd",
   "metadata": {},
   "outputs": [],
   "source": []
  }
 ],
 "metadata": {
  "kernelspec": {
   "display_name": "Python 3 (ipykernel)",
   "language": "python",
   "name": "python3"
  },
  "language_info": {
   "codemirror_mode": {
    "name": "ipython",
    "version": 3
   },
   "file_extension": ".py",
   "mimetype": "text/x-python",
   "name": "python",
   "nbconvert_exporter": "python",
   "pygments_lexer": "ipython3",
   "version": "3.9.0"
  }
 },
 "nbformat": 4,
 "nbformat_minor": 5
}
