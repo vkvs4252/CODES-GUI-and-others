{
 "cells": [
  {
   "cell_type": "code",
   "execution_count": 1,
   "id": "d962aad3",
   "metadata": {},
   "outputs": [],
   "source": [
    "import keras\n",
    "import tensorflow as tf\n",
    "from tensorflow.keras.preprocessing.image import ImageDataGenerator\n",
    "from tensorflow.keras.layers import Input, Conv2D, MaxPool2D, Dropout, BatchNormalization, Dense, Flatten, LayerNormalization\n",
    "from tensorflow.keras.models import Sequential, Model\n",
    "from tensorflow.keras.optimizers import Adam\n",
    "import tensorflow.keras.applications as appl\n",
    "from sklearn.model_selection import train_test_split\n",
    "import os\n",
    "import cv2\n",
    "import time\n",
    "import random\n",
    "import numpy as np\n",
    "import matplotlib.pyplot as plt\n",
    "import seaborn as sns\n",
    "import sklearn.metrics as metricsmassey\n",
    "from tqdm import tqdm\n",
    "from tensorflow.keras.utils import Sequence\n",
    "from keras import callbacks  \n",
    "from keras.models import load_model\n",
    "from keras.utils import np_utils"
   ]
  },
  {
   "cell_type": "code",
   "execution_count": 4,
   "id": "131f0179",
   "metadata": {},
   "outputs": [],
   "source": [
    "load_path='F:/VA/52words_conf_128/'"
   ]
  },
  {
   "cell_type": "code",
   "execution_count": 5,
   "id": "d4dd8029",
   "metadata": {},
   "outputs": [],
   "source": [
    "# model\n",
    "\n",
    "# model_name1 = 'InceptionResNetV2'\n",
    "# model_name1 = '4layer'\n",
    "model_name1 = '8layer2_conf_52words_dslr128-99.34'\n",
    "#model_name2 = 'VGG16'\n",
    "# model_name1 = 'DenseNet121'\n",
    "# model_name1 = 'InceptionV3'"
   ]
  },
  {
   "cell_type": "markdown",
   "id": "fa37bec1",
   "metadata": {},
   "source": [
    "Loading"
   ]
  },
  {
   "cell_type": "code",
   "execution_count": 6,
   "id": "f40f84c9",
   "metadata": {},
   "outputs": [
    {
     "name": "stdout",
     "output_type": "stream",
     "text": [
      "loaded\n",
      "Model: \"sequential\"\n",
      "_________________________________________________________________\n",
      " Layer (type)                Output Shape              Param #   \n",
      "=================================================================\n",
      " conv2d (Conv2D)             (None, 124, 124, 16)      1216      \n",
      "                                                                 \n",
      " dropout (Dropout)           (None, 124, 124, 16)      0         \n",
      "                                                                 \n",
      " conv2d_1 (Conv2D)           (None, 120, 120, 32)      12832     \n",
      "                                                                 \n",
      " max_pooling2d (MaxPooling2D  (None, 60, 60, 32)       0         \n",
      " )                                                               \n",
      "                                                                 \n",
      " dropout_1 (Dropout)         (None, 60, 60, 32)        0         \n",
      "                                                                 \n",
      " conv2d_2 (Conv2D)           (None, 56, 56, 64)        51264     \n",
      "                                                                 \n",
      " max_pooling2d_1 (MaxPooling  (None, 28, 28, 64)       0         \n",
      " 2D)                                                             \n",
      "                                                                 \n",
      " dropout_2 (Dropout)         (None, 28, 28, 64)        0         \n",
      "                                                                 \n",
      " conv2d_3 (Conv2D)           (None, 24, 24, 128)       204928    \n",
      "                                                                 \n",
      " max_pooling2d_2 (MaxPooling  (None, 12, 12, 128)      0         \n",
      " 2D)                                                             \n",
      "                                                                 \n",
      " dropout_3 (Dropout)         (None, 12, 12, 128)       0         \n",
      "                                                                 \n",
      " conv2d_4 (Conv2D)           (None, 10, 10, 256)       295168    \n",
      "                                                                 \n",
      " max_pooling2d_3 (MaxPooling  (None, 5, 5, 256)        0         \n",
      " 2D)                                                             \n",
      "                                                                 \n",
      " dropout_4 (Dropout)         (None, 5, 5, 256)         0         \n",
      "                                                                 \n",
      " conv2d_5 (Conv2D)           (None, 3, 3, 512)         1180160   \n",
      "                                                                 \n",
      " max_pooling2d_4 (MaxPooling  (None, 1, 1, 512)        0         \n",
      " 2D)                                                             \n",
      "                                                                 \n",
      " dropout_5 (Dropout)         (None, 1, 1, 512)         0         \n",
      "                                                                 \n",
      " flatten (Flatten)           (None, 512)               0         \n",
      "                                                                 \n",
      " dense (Dense)               (None, 1028)              527364    \n",
      "                                                                 \n",
      " dropout_6 (Dropout)         (None, 1028)              0         \n",
      "                                                                 \n",
      " dense_1 (Dense)             (None, 52)                53508     \n",
      "                                                                 \n",
      "=================================================================\n",
      "Total params: 2,326,440\n",
      "Trainable params: 2,326,440\n",
      "Non-trainable params: 0\n",
      "_________________________________________________________________\n"
     ]
    }
   ],
   "source": [
    "# #load saved history\n",
    "# history_const=np.load(load_path+model_name1+'_history.npy',allow_pickle='TRUE').item()\n",
    "\n",
    "# #load saved model\n",
    "model1=load_model(load_path+model_name1+'_model.h5')\n",
    "\n",
    "print(\"loaded\")\n",
    "model1.summary()"
   ]
  },
  {
   "cell_type": "code",
   "execution_count": 7,
   "id": "1925f112",
   "metadata": {},
   "outputs": [],
   "source": [
    "CATEGORIES=np.load(load_path+'cat_52.npy', allow_pickle=True)"
   ]
  },
  {
   "cell_type": "code",
   "execution_count": 11,
   "id": "5ebc7106",
   "metadata": {},
   "outputs": [],
   "source": [
    "## For dslr:\n",
    "IMG_SIZE = 128\n",
    "cap = cv2.VideoCapture(0)\n",
    "org = (20, 20)  \n",
    "org1 = (310, 20) \n",
    "fontScale = 0.65  \n",
    "font = cv2.FONT_HERSHEY_SIMPLEX\n",
    "# Blue color in BGR\n",
    "color = (130, 0, 0)  \n",
    "# Line thickness of 2 px\n",
    "thickness = 1 \n",
    "thickness1 = -1\n",
    "start_point = (0,0)\n",
    "end_point = (480,30)\n",
    "color1 = (255, 255, 255)  \n",
    "\n",
    "\n",
    "while cap.isOpened():\n",
    "#image from feeder\n",
    "    r, img_array = cap.read()\n",
    "    img_array = cv2.flip(img_array, 1)\n",
    "    image = img_array[:, 224:800, :]\n",
    "    image = cv2.resize(image, (480, 480))\n",
    "    img = cv2.resize(image, (IMG_SIZE, IMG_SIZE))\n",
    "    X = np.array(img).reshape(-1, IMG_SIZE, IMG_SIZE, 3)\n",
    "    X = X.astype('float32')\n",
    "    X /= 255\n",
    "    X = np.array(X)\n",
    "    Y = model1.predict(X,verbose=0)\n",
    "    #         print(np.argmax(Y))\n",
    "    if np.max(Y)>0.2:\n",
    "        # for display\n",
    "        image = cv2.rectangle(image, start_point, end_point, color1, thickness1)\n",
    "        image = cv2.rectangle(image, (0,30), (480,30), color, 2)\n",
    "        image = cv2.putText(image,\"Prediction: \"+ CATEGORIES[np.argmax(Y)], org, font, \n",
    "               fontScale, color, thickness, cv2.LINE_AA)\n",
    "        image = cv2.putText(image,\"Accuracy: \"+ \"%.2f\" % np.max(Y), org1, font, \n",
    "               fontScale, color, thickness, cv2.LINE_AA)\n",
    "    #             if np.max(Y)>0.95:\n",
    "        cv2.imwrite('E:/VA/52words_conf/'+CATEGORIES[np.argmax(Y)]+str(np.max(Y))+'.jpg',image)\n",
    "\n",
    "\n",
    "    cv2.imshow('Realtime testing', image)\n",
    "\n",
    "    if cv2.waitKey(10) & 0xFF == ord('q'):\n",
    "        break\n",
    "# close the camera\n",
    "cap.release()\n",
    "\n",
    "# close all the opened windows\n",
    "cv2.destroyAllWindows()"
   ]
  },
  {
   "cell_type": "markdown",
   "id": "794a50d2",
   "metadata": {},
   "source": [
    "# mediapipe testing"
   ]
  },
  {
   "cell_type": "markdown",
   "id": "8d08f7b9",
   "metadata": {},
   "source": [
    "# with hands"
   ]
  },
  {
   "cell_type": "code",
   "execution_count": null,
   "id": "7e7fe359",
   "metadata": {},
   "outputs": [],
   "source": []
  }
 ],
 "metadata": {
  "kernelspec": {
   "display_name": "Python 3 (ipykernel)",
   "language": "python",
   "name": "python3"
  },
  "language_info": {
   "codemirror_mode": {
    "name": "ipython",
    "version": 3
   },
   "file_extension": ".py",
   "mimetype": "text/x-python",
   "name": "python",
   "nbconvert_exporter": "python",
   "pygments_lexer": "ipython3",
   "version": "3.9.0"
  }
 },
 "nbformat": 4,
 "nbformat_minor": 5
}
